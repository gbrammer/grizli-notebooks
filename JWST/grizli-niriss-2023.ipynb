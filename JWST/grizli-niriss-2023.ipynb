{
 "cells": [
  {
   "cell_type": "markdown",
   "id": "b0018bf1-899e-4085-81a7-be553f84e4c2",
   "metadata": {},
   "source": [
    "# Demo for NIRISS spectral extraction\n",
    "\n",
    "Procedure for processing a set of imaging and slitless spectroscopy observations, as of December 2023.\n",
    "\n",
    "See other data products and description at the DAWN JWST Archive (DJA): https://dawn-cph.github.io/dja/."
   ]
  },
  {
   "cell_type": "code",
   "execution_count": 31,
   "id": "a9737aae-dd80-45f4-8c7c-f9b8752211ad",
   "metadata": {},
   "outputs": [
    {
     "name": "stdout",
     "output_type": "stream",
     "text": [
      "\n",
      " grizli version:  1.9.13.dev29+ga570fed.d20231207\n"
     ]
    }
   ],
   "source": [
    "import os\n",
    "import glob\n",
    "\n",
    "import numpy as np\n",
    "import matplotlib.pyplot as plt\n",
    "from tqdm import tqdm\n",
    "\n",
    "import astropy.io.fits as pyfits\n",
    "import astropy.wcs as pywcs\n",
    "\n",
    "import drizzlepac\n",
    "\n",
    "from grizli import utils, multifit\n",
    "from grizli.pipeline import auto_script\n",
    "from grizli.aws import visit_processor\n",
    "\n",
    "import grizli\n",
    "print('\\n grizli version: ', grizli.__version__)\n",
    "\n",
    "import warnings\n",
    "warnings.filterwarnings('ignore')\n",
    "\n",
    "# os.chdir('/usr/local/share/python/grizli-notebooks/JWST')\n",
    "HOME = os.getcwd()"
   ]
  },
  {
   "cell_type": "markdown",
   "id": "303b53aa-28ec-4a04-ad3f-0a59be8fb619",
   "metadata": {},
   "source": [
    "# Find a grizli/DJA association that overlaps with a particular position\n",
    "\n",
    "There is a database with a set custom defined *associations* of JWST data from many different programs.  These are not necessarily the same as the associations defined by STScI, but they can roughly be defined here as a set of exposures taken with a particular `instrument + detector + filter` combination at a particular epoch, i.e., within a single slew to the target.  *For WFSS, the associations should include both the direct and grism exposures.*\n",
    "\n",
    "There is some limited API functionality at https://grizli-cutout.herokuapp.com for querying these associations, which is the easiest way to to run the preprocessing script in `grizli.aws.visit_processor.process_visit`, which is itself a wrapper around `grizli.pipeline.auto_script` but that also parses the assocations.\n",
    "\n",
    "*Processing data that isn't already defined in a grizli association isn't currently supported by this notebook, but many programs should already be ingested....*"
   ]
  },
  {
   "cell_type": "code",
   "execution_count": 2,
   "id": "f0ad34df-024b-4ff6-849a-53bab8cd8aaa",
   "metadata": {},
   "outputs": [
    {
     "name": "stdout",
     "output_type": "stream",
     "text": [
      "                        assoc_name                              target       proposal_id    filter    instrument_name status\n",
      "--------------------------------------------------------- ------------------ ----------- ------------ --------------- ------\n",
      "j072304m7328_smacs-j0723.3-7327-f115w-gr150c-gr150r_00034 SMACS-J0723.3-7327        2736 GR150R-F115W          NIRISS      2\n",
      "j072304m7328_smacs-j0723.3-7327-f200w-gr150c-gr150r_00037 SMACS-J0723.3-7327        2736 GR150R-F200W          NIRISS      2\n"
     ]
    }
   ],
   "source": [
    "## SMACS 0723 ERO field\n",
    "ra, dec = 110.8258712, -73.4562154 \n",
    "\n",
    "sep = 1 # search radius, arcmin\n",
    "\n",
    "QUERY_URL = \"https://grizli-cutout.herokuapp.com/assoc?coord={ra},{dec}&arcmin={sep}&output=csv\"\n",
    "\n",
    "assoc_query = utils.read_catalog(QUERY_URL.format(ra=ra, dec=dec, sep=sep), format='csv')\n",
    "\n",
    "nis = assoc_query['instrument_name'] == 'NIRISS'\n",
    "print(assoc_query['assoc_name','target','proposal_id','filter','instrument_name','status'][nis])\n"
   ]
  },
  {
   "cell_type": "markdown",
   "id": "ab7cd3fb-351b-4d0d-8478-02aa2fce7140",
   "metadata": {},
   "source": [
    "## Association data\n",
    "\n",
    "Each association has attached metadata, primarily including the names of the exposure files included in the association that can be downloaded directly from mast (e.g., with `mastquery.utils.download_from_mast`).  This metadata itself is generated from a quer with `mastquery.jwst.query_jwst` that uses the `astroquery` MAST interface."
   ]
  },
  {
   "cell_type": "code",
   "execution_count": 3,
   "id": "c3216cfc-dcc3-4eb1-a9f0-a196c7c56816",
   "metadata": {},
   "outputs": [
    {
     "name": "stdout",
     "output_type": "stream",
     "text": [
      "                         dataURL                          proposal_id    filter         t_min       t_obs_release status\n",
      "--------------------------------------------------------- ----------- ------------ ---------------- ------------- ------\n",
      "mast:JWST/product/jw02736003001_02104_00006_nis_rate.fits        2736 GR150C-F115W 59747.3969072869     59773.625      2\n",
      "mast:JWST/product/jw02736003001_02105_00003_nis_rate.fits        2736  CLEAR-F115W 59747.4164270895     59773.625      2\n",
      "mast:JWST/product/jw02736003001_02104_00008_nis_rate.fits        2736 GR150C-F115W 59747.4068272754     59773.625      2\n",
      "mast:JWST/product/jw02736003001_02105_00001_nis_rate.fits        2736  CLEAR-F115W 59747.4119937677     59773.625      2\n",
      "mast:JWST/product/jw02736003001_02105_00002_nis_rate.fits        2736  CLEAR-F115W 59747.4142108048     59773.625      2\n",
      "mast:JWST/product/jw02736003001_02101_00001_nis_rate.fits        2736  CLEAR-F115W 59747.3205812677     59773.625      2\n",
      "mast:JWST/product/jw02736003001_02102_00001_nis_rate.fits        2736 GR150R-F115W 59747.3230703193     59773.625      2\n",
      "                                                      ...         ...          ...              ...           ...    ...\n",
      "mast:JWST/product/jw02736003001_02104_00001_nis_rate.fits        2736 GR150C-F115W 59747.3720650879     59773.625      2\n",
      "mast:JWST/product/jw02736003001_02104_00002_nis_rate.fits        2736 GR150C-F115W 59747.3770324953     59773.625      2\n",
      "mast:JWST/product/jw02736003001_02104_00003_nis_rate.fits        2736 GR150C-F115W 59747.3820095207     59773.625      2\n",
      "mast:JWST/product/jw02736003001_02104_00005_nis_rate.fits        2736 GR150C-F115W  59747.391941361     59773.625      2\n",
      "mast:JWST/product/jw02736003001_02104_00007_nis_rate.fits        2736 GR150C-F115W 59747.4018732013     59773.625      2\n",
      "mast:JWST/product/jw02736003001_02104_00004_nis_rate.fits        2736 GR150C-F115W 59747.3869761874     59773.625      2\n",
      "mast:JWST/product/jw02736003001_02103_00002_nis_rate.fits        2736  CLEAR-F115W 59747.3652034436     59773.625      2\n",
      "Length = 24 rows\n"
     ]
    }
   ],
   "source": [
    "assoc_info = utils.read_catalog(f\"https://grizli-cutout.herokuapp.com/assoc_json?name={assoc_query['assoc_name'][nis][0]}\",\n",
    "                                format='pandas.json')\n",
    "\n",
    "print(assoc_info['dataURL','proposal_id','filter','t_min','t_obs_release','status'])"
   ]
  },
  {
   "cell_type": "markdown",
   "id": "b1a0b6bb-2f53-4246-a001-cb32d713b588",
   "metadata": {},
   "source": [
    "## Associations that have already been reduced\n",
    "\n",
    "Grizli associations with `status=2` in the database have already been run through the preprocessing steps and in principle the reduced exposures can just be downloaded from the grizli AWS S3 buckets.  It is these files that are combined into the public grizli/DJA mosaics, e.g., at https://s3.amazonaws.com/grizli-v2/JwstMosaics/v7/index.html.\n",
    "\n",
    "While this functionality isn't yet fully enabled for users without the grizli db credentials, the example below shows how to query the grizli exposure db table and download a single exposure.\n",
    "\n",
    "The API at [https://grizli-cutout.herokuapp.com/exposures](https://grizli-cutout.herokuapp.com/exposures?help=True) will return a list of grizli/DJA-processed exposures based on various queries described at that link.  "
   ]
  },
  {
   "cell_type": "code",
   "execution_count": 4,
   "id": "05b6097b-58c7-4c37-be29-99dfac08c84f",
   "metadata": {},
   "outputs": [
    {
     "name": "stdout",
     "output_type": "stream",
     "text": [
      "                          assoc                                      dataset            extension instrume    filter   \n",
      "--------------------------------------------------------- ----------------------------- --------- -------- ------------\n",
      "j072304m7328_smacs-j0723.3-7327-f200w-gr150c-gr150r_00037 jw02736003001_02107_00001_nis      rate   NIRISS  F200W-CLEAR\n",
      "j072304m7328_smacs-j0723.3-7327-f200w-gr150c-gr150r_00037 jw02736003001_02109_00001_nis      rate   NIRISS  F200W-CLEAR\n",
      "j072304m7328_smacs-j0723.3-7327-f200w-gr150c-gr150r_00037 jw02736003001_02109_00002_nis      rate   NIRISS  F200W-CLEAR\n",
      "j072304m7328_smacs-j0723.3-7327-f200w-gr150c-gr150r_00037 jw02736003001_02109_00003_nis      rate   NIRISS  F200W-CLEAR\n",
      "j072304m7328_smacs-j0723.3-7327-f200w-gr150c-gr150r_00037 jw02736003001_02109_00004_nis      rate   NIRISS  F200W-CLEAR\n",
      "j072304m7328_smacs-j0723.3-7327-f200w-gr150c-gr150r_00037 jw02736003001_0210b_00001_nis      rate   NIRISS  F200W-CLEAR\n",
      "j072304m7328_smacs-j0723.3-7327-f200w-gr150c-gr150r_00037 jw02736003001_0210b_00003_nis      rate   NIRISS  F200W-CLEAR\n",
      "                                                      ...                           ...       ...      ...          ...\n",
      "j072304m7328_smacs-j0723.3-7327-f115w-gr150c-gr150r_00034 jw02736003001_02102_00007_nis      rate   NIRISS F115W-GR150R\n",
      "j072304m7328_smacs-j0723.3-7327-f115w-gr150c-gr150r_00034 jw02736003001_02102_00008_nis      rate   NIRISS F115W-GR150R\n",
      "j072304m7328_smacs-j0723.3-7327-f115w-gr150c-gr150r_00034 jw02736003001_02103_00001_nis      rate   NIRISS  F115W-CLEAR\n",
      "j072304m7328_smacs-j0723.3-7327-f115w-gr150c-gr150r_00034 jw02736003001_02103_00002_nis      rate   NIRISS  F115W-CLEAR\n",
      "j072304m7328_smacs-j0723.3-7327-f115w-gr150c-gr150r_00034 jw02736003001_02103_00003_nis      rate   NIRISS  F115W-CLEAR\n",
      "j072304m7328_smacs-j0723.3-7327-f115w-gr150c-gr150r_00034 jw02736003001_02103_00004_nis      rate   NIRISS  F115W-CLEAR\n",
      "j072304m7328_smacs-j0723.3-7327-f115w-gr150c-gr150r_00034 jw02736003001_02105_00001_nis      rate   NIRISS  F115W-CLEAR\n",
      "Length = 48 rows\n"
     ]
    }
   ],
   "source": [
    "EXPOSURE_API = \"https://grizli-cutout.herokuapp.com/exposures?associations=\"\n",
    "EXPOSURE_API += ','.join(assoc_query['assoc_name'][nis].tolist())\n",
    "\n",
    "exp = utils.read_catalog(EXPOSURE_API, format='csv')\n",
    "\n",
    "print(exp['assoc','dataset', 'extension', 'instrume', 'filter'])"
   ]
  },
  {
   "cell_type": "code",
   "execution_count": 5,
   "id": "54394797-0730-4a9f-b2d7-788e5f64d4d7",
   "metadata": {},
   "outputs": [
    {
     "data": {
      "text/markdown": [
       "![exposure figure](https://grizli-cutout.herokuapp.com/exposures?associations=j072304m7328_smacs-j0723.3-7327-f115w-gr150c-gr150r_00034,j072304m7328_smacs-j0723.3-7327-f200w-gr150c-gr150r_00037&output=figure)"
      ],
      "text/plain": [
       "<IPython.core.display.Markdown object>"
      ]
     },
     "execution_count": 5,
     "metadata": {},
     "output_type": "execute_result"
    }
   ],
   "source": [
    "# The exposure API can make an exposure map figure!\n",
    "from IPython.display import Markdown as md\n",
    "md(f\"![exposure figure]({EXPOSURE_API}&output=figure)\")"
   ]
  },
  {
   "cell_type": "code",
   "execution_count": 6,
   "id": "130278bb-a141-42cf-be78-28c35219d95f",
   "metadata": {},
   "outputs": [
    {
     "name": "stdout",
     "output_type": "stream",
     "text": [
      "Filename: /Users/gbrammer/.astropy/cache/download/url/0ab4a6d6973ecb3b15af8dbcb1672cab/contents\n",
      "No.    Name      Ver    Type      Cards   Dimensions   Format\n",
      "  0  PRIMARY       1 PrimaryHDU     270   ()      \n",
      "  1  SCI           1 ImageHDU       207   (2048, 2048)   float32   \n",
      "  2  ERR           1 ImageHDU        10   (2048, 2048)   float32   \n",
      "  3  DQ            1 ImageHDU        11   (2048, 2048)   int16   \n",
      "  4  AREA          1 ImageHDU         9   (2048, 2048)   float32   \n",
      "  5  VAR_POISSON    1 ImageHDU         9   (2048, 2048)   float32   \n",
      "  6  VAR_RNOISE    1 ImageHDU         9   (2048, 2048)   float32   \n",
      "  7  VAR_FLAT      1 ImageHDU         9   (2048, 2048)   float32   \n",
      "  8  TIME          1 ImageHDU        11   ()      \n",
      "  9  ASDF          1 BinTableHDU     11   1R x 1C   [25944B]   \n"
     ]
    }
   ],
   "source": [
    "# Open / download a file from the public grizli AWS S3 bucket\n",
    "GRIZLI_S3_URL = \"https://s3.amazonaws.com/grizli-v2/HST/Pipeline/{assoc}/Prep/{dataset}_{extension}.fits\"\n",
    "\n",
    "if len(exp) > 0:\n",
    "    im = pyfits.open(GRIZLI_S3_URL.format(**exp[0]))\n",
    "    im.info()"
   ]
  },
  {
   "cell_type": "markdown",
   "id": "1c101f27-09d9-4964-b8ab-dcc61317c379",
   "metadata": {},
   "source": [
    "# Do the preprocessing steps\n",
    "\n",
    "Now run the preprocessing from scratch for the example associations queried above, which will start by downloading the `rate.fits` exposures from MAST and ends with a directory that contains astrometrically-aligned, background-subtracted, calibrated exposure files.  It is exactly this script that is used for all of the DJA data processing of public HST and JWST data.  The only difference being that without write access to the grizli S3 buckets and database, we run with `sync=False, with_db=False` to do all of the processing locally.  \n",
    "\n",
    "Note that these scripts should work for data still with a proprietary access rights if your MAST account has access to the data and you have set the `$MAST_TOKEN` environment variable appropriately.\n",
    "\n",
    "The step below takes a while to run the first time...."
   ]
  },
  {
   "cell_type": "code",
   "execution_count": 7,
   "id": "7e1dffd4-5144-4cb4-b096-c94eadec68ca",
   "metadata": {},
   "outputs": [
    {
     "name": "stdout",
     "output_type": "stream",
     "text": [
      "Directory j072304m7328_smacs-j0723.3-7327-f115w-gr150c-gr150r_00034 found, local preprocesing complete!\n",
      "Directory j072304m7328_smacs-j0723.3-7327-f200w-gr150c-gr150r_00037 found, local preprocesing complete!\n"
     ]
    }
   ],
   "source": [
    "for assoc in assoc_query['assoc_name'][nis]:\n",
    "    if not os.path.exists(assoc):\n",
    "        _ = visit_processor.process_visit(assoc, clean=False, sync=False, with_db=False)\n",
    "    else:\n",
    "        print(f'Directory {assoc} found, local preprocesing complete!')"
   ]
  },
  {
   "cell_type": "code",
   "execution_count": 8,
   "id": "12deeb0d-e704-41c8-b51e-b59c67abf78b",
   "metadata": {},
   "outputs": [
    {
     "name": "stdout",
     "output_type": "stream",
     "text": [
      "# flt xshift yshift rot scale N rmsx rmsy\n",
      "# fit_order: -1\n",
      "# match['jw02736003001_02107_00001_nis_rate.fits'] = ['jw02736003001_02108_00001_nis_rate.fits']\n",
      "# match['jw02736003001_02109_00001_nis_rate.fits'] = ['jw02736003001_02108_00008_nis_rate.fits']\n",
      "# match['jw02736003001_02109_00002_nis_rate.fits'] = ['jw02736003001_02108_00006_nis_rate.fits']\n",
      "# match['jw02736003001_02109_00003_nis_rate.fits'] = ['jw02736003001_02108_00007_nis_rate.fits']\n",
      "# match['jw02736003001_02109_00004_nis_rate.fits'] = []\n",
      "# match['jw02736003001_0210b_00001_nis_rate.fits'] = []\n",
      "# match['jw02736003001_0210b_00002_nis_rate.fits'] = []\n",
      "# match['jw02736003001_0210b_00003_nis_rate.fits'] = []\n",
      "jw02736003001_02107_00001_nis_rate.fits  -0.007   0.029  0.00000  1.00000    40  0.010  0.010\n",
      "jw02736003001_02109_00001_nis_rate.fits  -0.002   0.025  0.00000  1.00000    43  0.008  0.007\n",
      "jw02736003001_02109_00002_nis_rate.fits  -0.002   0.032  0.00000  1.00000    46  0.008  0.013\n",
      "jw02736003001_02109_00003_nis_rate.fits  -0.012   0.025  0.00000  1.00000    43  0.011  0.010\n",
      "jw02736003001_02109_00004_nis_rate.fits  -0.032   0.024  0.00000  1.00000    43  0.010  0.012\n",
      "jw02736003001_0210b_00001_nis_rate.fits  -0.036   0.032  0.00000  1.00000    46  0.017  0.015\n",
      "jw02736003001_0210b_00002_nis_rate.fits   0.010   0.036  0.00000  1.00000    43  0.012  0.014\n",
      "jw02736003001_0210b_00003_nis_rate.fits  -0.018   0.018  0.00000  1.00000    34  0.011  0.008\n"
     ]
    }
   ],
   "source": [
    "# Tweakshifts refinement log\n",
    "! cat {assoc}/Prep/*shifts.log"
   ]
  },
  {
   "cell_type": "code",
   "execution_count": 9,
   "id": "472416ad-138b-4e69-a642-c9e5f6654d6c",
   "metadata": {},
   "outputs": [
    {
     "name": "stdout",
     "output_type": "stream",
     "text": [
      "# ext xshift yshift rot scale rms N\n",
      "# radec: smacs0723_nircam_f444w_from_vircam.radec\n",
      "# smacs-j0723.3-7327-02736-003-155.0-nis-f200w-clear\n",
      "    0        0.8841       -3.0356       -0.0187       1.00000         0.097  168\n"
     ]
    }
   ],
   "source": [
    "# Global astrometric alignment log\n",
    "# 0 xshift yshift rotation scale rms n_ref_sources\n",
    "! cat {assoc}/Prep/*wcs.log"
   ]
  },
  {
   "cell_type": "markdown",
   "id": "fa648702-bc15-45ee-8a04-0ee8f4b7a885",
   "metadata": {},
   "source": [
    "# Make working directory for combining across the associations just preprocessed\n",
    "\n",
    "The associations processed above include two NIRISS blocking filters and both orthogonal grisms covering the SMACS0723 ERO field.  Now we combine them to consider all of the data together."
   ]
  },
  {
   "cell_type": "code",
   "execution_count": 10,
   "id": "faeee8f0-3a10-4c5c-a89a-418584812afb",
   "metadata": {},
   "outputs": [],
   "source": [
    "os.chdir(HOME)\n",
    "root = 'smacs0723'\n",
    "\n",
    "for sub in ['Prep','Extractions']:\n",
    "    path = os.path.join(HOME, root, sub)\n",
    "    if not os.path.exists(path):\n",
    "        os.makedirs(path)"
   ]
  },
  {
   "cell_type": "code",
   "execution_count": 11,
   "id": "58ade278-c78b-4ff9-9e50-cf9bd4e35046",
   "metadata": {},
   "outputs": [
    {
     "name": "stdout",
     "output_type": "stream",
     "text": [
      "\u001b[35mjw02736003001_02101_00001_nis_rate.fits\u001b[m\u001b[m \u001b[35mjw02736003001_02107_00001_nis_rate.fits\u001b[m\u001b[m\n",
      "\u001b[35mjw02736003001_02102_00001_nis_rate.fits\u001b[m\u001b[m \u001b[35mjw02736003001_02108_00001_nis_rate.fits\u001b[m\u001b[m\n",
      "\u001b[35mjw02736003001_02102_00002_nis_rate.fits\u001b[m\u001b[m \u001b[35mjw02736003001_02108_00002_nis_rate.fits\u001b[m\u001b[m\n",
      "\u001b[35mjw02736003001_02102_00003_nis_rate.fits\u001b[m\u001b[m \u001b[35mjw02736003001_02108_00003_nis_rate.fits\u001b[m\u001b[m\n",
      "\u001b[35mjw02736003001_02102_00004_nis_rate.fits\u001b[m\u001b[m \u001b[35mjw02736003001_02108_00004_nis_rate.fits\u001b[m\u001b[m\n",
      "\u001b[35mjw02736003001_02102_00005_nis_rate.fits\u001b[m\u001b[m \u001b[35mjw02736003001_02108_00005_nis_rate.fits\u001b[m\u001b[m\n",
      "\u001b[35mjw02736003001_02102_00006_nis_rate.fits\u001b[m\u001b[m \u001b[35mjw02736003001_02108_00006_nis_rate.fits\u001b[m\u001b[m\n",
      "\u001b[35mjw02736003001_02102_00007_nis_rate.fits\u001b[m\u001b[m \u001b[35mjw02736003001_02108_00007_nis_rate.fits\u001b[m\u001b[m\n",
      "\u001b[35mjw02736003001_02102_00008_nis_rate.fits\u001b[m\u001b[m \u001b[35mjw02736003001_02108_00008_nis_rate.fits\u001b[m\u001b[m\n",
      "\u001b[35mjw02736003001_02103_00001_nis_rate.fits\u001b[m\u001b[m \u001b[35mjw02736003001_02109_00001_nis_rate.fits\u001b[m\u001b[m\n",
      "\u001b[35mjw02736003001_02103_00002_nis_rate.fits\u001b[m\u001b[m \u001b[35mjw02736003001_02109_00002_nis_rate.fits\u001b[m\u001b[m\n",
      "\u001b[35mjw02736003001_02103_00003_nis_rate.fits\u001b[m\u001b[m \u001b[35mjw02736003001_02109_00003_nis_rate.fits\u001b[m\u001b[m\n",
      "\u001b[35mjw02736003001_02103_00004_nis_rate.fits\u001b[m\u001b[m \u001b[35mjw02736003001_02109_00004_nis_rate.fits\u001b[m\u001b[m\n",
      "\u001b[35mjw02736003001_02104_00001_nis_rate.fits\u001b[m\u001b[m \u001b[35mjw02736003001_0210a_00001_nis_rate.fits\u001b[m\u001b[m\n",
      "\u001b[35mjw02736003001_02104_00002_nis_rate.fits\u001b[m\u001b[m \u001b[35mjw02736003001_0210a_00002_nis_rate.fits\u001b[m\u001b[m\n",
      "\u001b[35mjw02736003001_02104_00003_nis_rate.fits\u001b[m\u001b[m \u001b[35mjw02736003001_0210a_00003_nis_rate.fits\u001b[m\u001b[m\n",
      "\u001b[35mjw02736003001_02104_00004_nis_rate.fits\u001b[m\u001b[m \u001b[35mjw02736003001_0210a_00004_nis_rate.fits\u001b[m\u001b[m\n",
      "\u001b[35mjw02736003001_02104_00005_nis_rate.fits\u001b[m\u001b[m \u001b[35mjw02736003001_0210a_00005_nis_rate.fits\u001b[m\u001b[m\n",
      "\u001b[35mjw02736003001_02104_00006_nis_rate.fits\u001b[m\u001b[m \u001b[35mjw02736003001_0210a_00006_nis_rate.fits\u001b[m\u001b[m\n",
      "\u001b[35mjw02736003001_02104_00007_nis_rate.fits\u001b[m\u001b[m \u001b[35mjw02736003001_0210a_00007_nis_rate.fits\u001b[m\u001b[m\n",
      "\u001b[35mjw02736003001_02104_00008_nis_rate.fits\u001b[m\u001b[m \u001b[35mjw02736003001_0210a_00008_nis_rate.fits\u001b[m\u001b[m\n",
      "\u001b[35mjw02736003001_02105_00001_nis_rate.fits\u001b[m\u001b[m \u001b[35mjw02736003001_0210b_00001_nis_rate.fits\u001b[m\u001b[m\n",
      "\u001b[35mjw02736003001_02105_00002_nis_rate.fits\u001b[m\u001b[m \u001b[35mjw02736003001_0210b_00002_nis_rate.fits\u001b[m\u001b[m\n",
      "\u001b[35mjw02736003001_02105_00003_nis_rate.fits\u001b[m\u001b[m \u001b[35mjw02736003001_0210b_00003_nis_rate.fits\u001b[m\u001b[m\n"
     ]
    }
   ],
   "source": [
    "# Go to preprocessing directory\n",
    "os.chdir(os.path.join(HOME,root,'Prep'))\n",
    "\n",
    "# Symlink preprocessed exposure files here\n",
    "for assoc in assoc_query['assoc_name'][nis]:\n",
    "    !ln -sf ../../{assoc}/Prep/*rate.fits . \n",
    "\n",
    "! ls *rate.fits"
   ]
  },
  {
   "cell_type": "markdown",
   "id": "fbf03de7-394c-4d8c-bed1-a62cfd7d04d4",
   "metadata": {},
   "source": [
    "# Make combined mosaics\n",
    "\n",
    "Drizzle the individual exposures into final mosaics"
   ]
  },
  {
   "cell_type": "code",
   "execution_count": 12,
   "id": "e1510701-3a20-401b-9879-016d1b298847",
   "metadata": {},
   "outputs": [],
   "source": [
    "# Make a table with file information\n",
    "files = glob.glob('*rate.fits')\n",
    "files.sort()\n",
    "res = visit_processor.res_query_from_local(files=files)\n",
    "is_grism = np.array(['GR' in filt for filt in res['filter']])"
   ]
  },
  {
   "cell_type": "code",
   "execution_count": 13,
   "id": "4c6ba248-997b-4649-a891-fd1f4cc1eda0",
   "metadata": {},
   "outputs": [
    {
     "name": "stdout",
     "output_type": "stream",
     "text": [
      "Fix NIRISS: filters = F115WN-CLEAR F200WN-CLEAR\n",
      "Skip smacs0723-f115wn-clear\n",
      "Skip smacs0723-f200wn-clear\n"
     ]
    }
   ],
   "source": [
    "# Mosaic WCS that contains the exposures, but could come from somewhere else\n",
    "hdu = utils.make_maximal_wcs(files=files,\n",
    "                             pixel_scale=0.04,\n",
    "                             pad=4,\n",
    "                             get_hdu=True, verbose=False)\n",
    "\n",
    "ref_wcs = pywcs.WCS(hdu.header)\n",
    "\n",
    "# Make the mosaics, e.g., ``myfield-f200wn-clear_drc_sci.fits``\n",
    "\n",
    "_ = visit_processor.cutout_mosaic(root,\n",
    "                                  res=res[~is_grism], # Pass the exposure information table for the direct images\n",
    "                                  ir_wcs=ref_wcs,\n",
    "                                  half_optical=False, # Otherwise will make JWST exposures at half pixel scale of ref_wcs\n",
    "                                  kernel='square', # Drizzle parameters\n",
    "                                  pixfrac=0.8,\n",
    "                                  clean_flt=False, # Otherwise removes \"rate.fits\" files from the workign directory!\n",
    "                                  s3output=None,\n",
    "                                  make_exptime_map=False,\n",
    "                                  weight_type='jwst',\n",
    "                                  skip_existing=True,\n",
    "                                 )\n"
   ]
  },
  {
   "cell_type": "code",
   "execution_count": 14,
   "id": "ac63b5e6-0f9a-495a-92db-48c4511b3622",
   "metadata": {},
   "outputs": [
    {
     "name": "stdout",
     "output_type": "stream",
     "text": [
      "smacs0723-f115wn-clear_drc_sci.fits\n",
      "smacs0723-f115wn-clear_drc_wht.fits\n",
      "smacs0723-f200wn-clear_drc_sci.fits\n",
      "smacs0723-f200wn-clear_drc_wht.fits\n"
     ]
    }
   ],
   "source": [
    "! ls -1 {root}*_dr*fits"
   ]
  },
  {
   "cell_type": "markdown",
   "id": "5637b9ad-62e5-462d-aadd-ff370229a36c",
   "metadata": {},
   "source": [
    "# Make source catalog\n",
    "\n",
    "Run the SourceExtractor clone `sep` on one of the mosaics to make a source catalog.  The segmentation image and catalog can also come from somewhere else, e.g., from detecting on a deep NIRCam image, as long as it is astrometrically aligned to the exposures you want to process here."
   ]
  },
  {
   "cell_type": "code",
   "execution_count": 16,
   "id": "533c1a72-2983-4c4c-bc03-ec8974c9bd0b",
   "metadata": {},
   "outputs": [
    {
     "name": "stdout",
     "output_type": "stream",
     "text": [
      "Existing catalog smacs0723-ir.cat.fits found\n"
     ]
    }
   ],
   "source": [
    "from grizli import prep\n",
    "\n",
    "catfile = 'smacs0723-ir.cat.fits'\n",
    "if not os.path.exists(catfile):\n",
    "    _cat = prep.make_SEP_catalog('smacs0723-f200wn-clear', threshold=1.2)\n",
    "    \n",
    "    # Script below needs to find catalog named like {root}-ir.cat.fits\n",
    "    # so just make a symlink here\n",
    "    ! ln -sf smacs0723-f200wn-clear_seg.fits smacs0723-ir_seg.fits\n",
    "    ! ln -sf smacs0723-f200wn-clear.cat.fits smacs0723-ir.cat.fits\n",
    "else:\n",
    "    print(f'Existing catalog {catfile} found')\n",
    "    "
   ]
  },
  {
   "cell_type": "markdown",
   "id": "c1e889ee-43f8-4820-a9d1-206a07e2510e",
   "metadata": {},
   "source": [
    "# Grism processing\n",
    "\n",
    "For just imaging, you're pretty much done after the steps above.  Below are additional steps for extracting WFSS spectra.\n",
    "\n",
    "## Initialize Grism GroupFLT objects\n",
    "\n",
    "This step associates the direct image mosaic, segmentation image and catalog with the grism exposures and derives the contamination model, optionally refined with polynomial fits to the spectra of bright sources."
   ]
  },
  {
   "cell_type": "code",
   "execution_count": 17,
   "id": "3cc4863a-c5a6-4aa4-9bab-b5148caf6cc8",
   "metadata": {},
   "outputs": [
    {
     "name": "stdout",
     "output_type": "stream",
     "text": [
      "   N  value     \n",
      "====  ==========\n",
      "  24  F115W     \n",
      "  24  F200W     \n"
     ]
    }
   ],
   "source": [
    "from grizli.pipeline import auto_script\n",
    "\n",
    "os.chdir(os.path.join(HOME, root, 'Prep'))\n",
    "\n",
    "pad = (1024, 1024)\n",
    "\n",
    "# Process by blocking filter\n",
    "un = utils.Unique(res['pupil'])\n",
    "\n",
    "if len(glob.glob('*GrismFLT.fits')) == 0:\n",
    "    \n",
    "    grp = {}\n",
    "    \n",
    "    for filt in un.values:\n",
    "            \n",
    "        grism_files = ['{dataset}_rate.fits'.format(**row)\n",
    "                       for row in res[is_grism & un[filt]]]\n",
    "        \n",
    "        # subset for a faster test\n",
    "        grism_files = grism_files[:4]\n",
    "    \n",
    "        grp[filt] = auto_script.grism_prep(field_root=root,\n",
    "                                 PREP_PATH='../Prep', \n",
    "                                 EXTRACT_PATH='../Extractions/', \n",
    "                                 refine_niter=2,\n",
    "                                 refine_mag_limits=[16, 24], \n",
    "                                 prelim_mag_limit=26,\n",
    "                                 init_coeffs=[1, -0.6],\n",
    "                                 pad=pad,\n",
    "                                 files=grism_files,\n",
    "                                 model_kwargs={'compute_size': False, 'size':48},\n",
    "                                 subtract_median_filter=False,\n",
    "                                 use_jwst_crds=False,\n",
    "                                )"
   ]
  },
  {
   "cell_type": "markdown",
   "id": "09e1a472-c363-4021-8794-d8e9640a4d95",
   "metadata": {},
   "source": [
    "## Load saved grism model files\n",
    "\n",
    "You don't have to recompute the contamination models each time, but can restart the processing by loading the `GrismFLT.fits` files created in the previous step."
   ]
  },
  {
   "cell_type": "code",
   "execution_count": 18,
   "id": "967404c5-de71-45ac-afad-3f72e86b5f09",
   "metadata": {},
   "outputs": [
    {
     "name": "stdout",
     "output_type": "stream",
     "text": [
      "F115W 4 jw02736003001_02102_00001_nis.01.GrismFLT.fits jw02736003001_02102_00002_nis.01.GrismFLT.fits jw02736003001_02102_00003_nis.01.GrismFLT.fits jw02736003001_02102_00004_nis.01.GrismFLT.fits\n",
      "\n",
      "-------------------------\n",
      "\n",
      "Load jw02736003001_02102_00001_nis.01.GrismFLT.fits!\n",
      "\n",
      "\n",
      "Transform JWST WFSS: flip=True\n",
      "Load jw02736003001_02102_00002_nis.01.GrismFLT.fits!\n",
      "Transform JWST WFSS: flip=True\n",
      "Load jw02736003001_02102_00003_nis.01.GrismFLT.fits!\n",
      "Transform JWST WFSS: flip=True\n",
      "Load jw02736003001_02102_00004_nis.01.GrismFLT.fits!\n",
      "Transform JWST WFSS: flip=True\n",
      "Files loaded - 0.66 sec.\n",
      "F200W 4 jw02736003001_02108_00001_nis.01.GrismFLT.fits jw02736003001_02108_00002_nis.01.GrismFLT.fits jw02736003001_02108_00003_nis.01.GrismFLT.fits jw02736003001_02108_00004_nis.01.GrismFLT.fits\n",
      "\n",
      "-------------------------\n",
      "\n",
      "Load jw02736003001_02108_00001_nis.01.GrismFLT.fits!\n",
      "Transform JWST WFSS: flip=True\n",
      "Load jw02736003001_02108_00002_nis.01.GrismFLT.fits!\n",
      "Transform JWST WFSS: flip=True\n",
      "Load jw02736003001_02108_00003_nis.01.GrismFLT.fits!\n",
      "Transform JWST WFSS: flip=True\n",
      "Load jw02736003001_02108_00004_nis.01.GrismFLT.fits!\n",
      "Transform JWST WFSS: flip=True\n",
      "Files loaded - 0.60 sec.\n"
     ]
    }
   ],
   "source": [
    "os.chdir(os.path.join(HOME, root, 'Extractions'))\n",
    "\n",
    "un = utils.Unique(res['pupil'], verbose=False)\n",
    "\n",
    "all_grism_files = glob.glob('*GrismFLT.fits')\n",
    "all_grism_files.sort()\n",
    "\n",
    "file_filters = {}\n",
    "for f in all_grism_files:\n",
    "    with pyfits.open(f) as im:\n",
    "        filt = im[1].header['DFILTER'].split('-')[0]\n",
    "        if filt not in file_filters:\n",
    "            file_filters[filt] = []\n",
    "\n",
    "        file_filters[filt].append(f)\n",
    "\n",
    "filts = un.values\n",
    "\n",
    "grism_files = []\n",
    "for filt in filts:\n",
    "    if filt in file_filters:\n",
    "        grism_files += file_filters[filt]\n",
    "\n",
    "catalog = glob.glob(f'{root}-*.cat.fits')[0]\n",
    "seg_file = glob.glob(f'{root}-*_seg.fits')[0]\n",
    "\n",
    "grp = {}\n",
    "for filt in filts:\n",
    "    if filt not in file_filters:\n",
    "        continue\n",
    "    \n",
    "    print(filt, len(file_filters[filt]), ' '.join(file_filters[filt]))\n",
    "    print('\\n-------------------------\\n')\n",
    "    \n",
    "    grp[filt] = multifit.GroupFLT(grism_files=file_filters[filt],\n",
    "                                  direct_files=[], \n",
    "                                  ref_file=None, # automatically compute based on the filter\n",
    "                                  seg_file=seg_file, \n",
    "                                  catalog=catalog,\n",
    "                                  cpu_count=-1, sci_extn=1, \n",
    "                                  pad=1200)"
   ]
  },
  {
   "cell_type": "markdown",
   "id": "63ed4c67-2045-4164-937c-90f1a97226ef",
   "metadata": {},
   "source": [
    "## Drizzle combined images by grism / PA\n",
    "\n",
    "- `*grism_sci.fits` is the combination of the raw grism exposures\n",
    "- `*grism_clean.fits` is the combination of the median-filtered images"
   ]
  },
  {
   "cell_type": "code",
   "execution_count": 19,
   "id": "5677fa97-2f6b-43b4-9417-32899f2f3ae4",
   "metadata": {},
   "outputs": [],
   "source": [
    "# Make drizzled diagnostic images of the contamination models\n",
    "if 0:\n",
    "    utils.set_warnings()\n",
    "\n",
    "    for k in grp:\n",
    "        grp[k].drizzle_grism_models(root=root, kernel='square', scale=0.06, pixfrac=0.75)"
   ]
  },
  {
   "cell_type": "markdown",
   "id": "c7078dc3-ee0b-462a-afda-aab4a346d460",
   "metadata": {},
   "source": [
    "## Initialize redshift fit defaults\n",
    "\n",
    "Set some defaults for the redshift fits."
   ]
  },
  {
   "cell_type": "code",
   "execution_count": 21,
   "id": "b62faba0-aa7c-4f63-b54b-492e770dd13d",
   "metadata": {},
   "outputs": [
    {
     "data": {
      "text/plain": [
       "[0.004, 0.0004]"
      ]
     },
     "execution_count": 21,
     "metadata": {},
     "output_type": "execute_result"
    }
   ],
   "source": [
    "args['dz']"
   ]
  },
  {
   "cell_type": "code",
   "execution_count": 22,
   "id": "83f3e847-8e3c-4bf4-966c-2cf7d28a4ab6",
   "metadata": {},
   "outputs": [
    {
     "name": "stdout",
     "output_type": "stream",
     "text": [
      "Saved arguments to fit_args.npy.\n"
     ]
    }
   ],
   "source": [
    "import astropy.units as u\n",
    "\n",
    "args = auto_script.generate_fit_params(field_root=root, \n",
    "                                       zr=[0.02, 8], # full redshift range to fit\n",
    "                                       dz=[0.004, 0.0004], # two-pass redshift grid steps in (1+z)\n",
    "                                       sys_err=0.03,\n",
    "                                       include_photometry=False,\n",
    "                                       fit_trace_shift=False, # this can help with some trace misalignment\n",
    "                                       dscale=0.01,\n",
    "                                       fwhm=500.*u.km/u.second, # velocity width of emission line templates\n",
    "                                       full_line_list=['Lya', 'OII', 'Hb',\n",
    "                                                       'OIII', 'Ha', 'NII','Ha+NII', 'SII', 'SIII',\n",
    "                                                       'PaD','PaG','PaB','HeI-1083','PaA'], # Make line maps of these\n",
    "                                       min_sens=1.e-6, min_mask=1.e-6, # masking around sensitivity edges\n",
    "                                       mask_resid=True,\n",
    "                                       fcontam=0.2, # include a contribution of the contamination model in the uncertainties\n",
    "                                       pline={'kernel': 'square', 'pixfrac': 0.5, # line map parameters\n",
    "                                              'pixscale': 0.05, 'size': 8, 'wcs': None},\n",
    "                                )\n"
   ]
  },
  {
   "cell_type": "markdown",
   "id": "020ec1e7-0a4c-4ffb-a9b2-2c79acbbdddf",
   "metadata": {},
   "source": [
    "# Extract and fit a test source"
   ]
  },
  {
   "cell_type": "code",
   "execution_count": 24,
   "id": "d6bb0243-f947-4afd-b58f-2d484094d893",
   "metadata": {},
   "outputs": [
    {
     "name": "stdout",
     "output_type": "stream",
     "text": [
      "     ra         dec        comment     catalog_id   dr  \n",
      "    deg         deg                               arcsec\n",
      "----------- ----------- -------------- ---------- ------\n",
      "110.8534944 -73.4596559 multiple lines       1410   0.02\n",
      "110.8386544 -73.4493347           line       2976   0.02\n",
      "110.8440811 -73.4442407   OIII emitter       2926   0.06\n"
     ]
    }
   ],
   "source": [
    "src = utils.read_catalog(\"\"\"ra, dec, comment\n",
    "110.8534944, -73.4596559, multiple lines\n",
    "110.8386544, -73.4493347, line\n",
    "110.8440811, -73.4442407, OIII emitter\n",
    "\"\"\", format='csv')\n",
    "\n",
    "# Find the corresponding source id\n",
    "k = un.values[0]\n",
    "idx, dr = grp[k].catalog.match_to_catalog_sky(src)\n",
    "\n",
    "src['catalog_id'] = grp[k].catalog['NUMBER'][idx]\n",
    "src['dr'] = dr\n",
    "src['dr'].format = '.2f'\n",
    "\n",
    "print(src)"
   ]
  },
  {
   "cell_type": "code",
   "execution_count": 26,
   "id": "c9da0df8-7c00-475f-a55d-e6dbf7de5159",
   "metadata": {},
   "outputs": [],
   "source": [
    "id = src['catalog_id'][0]\n",
    "size = 48"
   ]
  },
  {
   "cell_type": "code",
   "execution_count": 27,
   "id": "bcf9285c-a080-4d0b-8df2-abe6c404517d",
   "metadata": {},
   "outputs": [
    {
     "name": "stdout",
     "output_type": "stream",
     "text": [
      "1410 8\n",
      "smacs0723_01410.beams.fits\n",
      "GR150R F115W /Users/gbrammer/Research/grizli/CONF/GR150R.F115W.221215.conf\n",
      "GR150R F115W /Users/gbrammer/Research/grizli/CONF/GR150R.F115W.221215.conf\n",
      "GR150R F115W /Users/gbrammer/Research/grizli/CONF/GR150R.F115W.221215.conf\n",
      "GR150R F115W /Users/gbrammer/Research/grizli/CONF/GR150R.F115W.221215.conf\n",
      "GR150R F200W /Users/gbrammer/Research/grizli/CONF/GR150R.F200W.221215.conf\n",
      "GR150R F200W /Users/gbrammer/Research/grizli/CONF/GR150R.F200W.221215.conf\n",
      "GR150R F200W /Users/gbrammer/Research/grizli/CONF/GR150R.F200W.221215.conf\n",
      "GR150R F200W /Users/gbrammer/Research/grizli/CONF/GR150R.F200W.221215.conf\n"
     ]
    }
   ],
   "source": [
    "beams = []\n",
    "mbf = {}\n",
    "beam_groups = {}\n",
    "\n",
    "for filt in grp:\n",
    "    beams_i = grp[filt].get_beams(id, size=size, min_mask=args['min_mask'], min_sens=args['min_sens'], mask_resid=False)\n",
    "    msg = f'{filt} {len(beams_i)}'\n",
    "    beams += beams_i\n",
    "\n",
    "mb = multifit.MultiBeam(beams, **args)\n",
    "print(id, len(beams))\n",
    "    \n",
    "mb.write_master_fits()\n",
    "\n",
    "for b in mb.beams:\n",
    "    print(b.grism.filter, b.grism.pupil, b.beam.conf.conf_file)"
   ]
  },
  {
   "cell_type": "code",
   "execution_count": 32,
   "id": "ff27a5d1-8af4-4d03-b784-5c953b96065f",
   "metadata": {},
   "outputs": [
    {
     "data": {
      "image/png": "[encoded data removed]",
      "text/plain": [
       "<Figure size 900x300 with 1 Axes>"
      ]
     },
     "metadata": {},
     "output_type": "display_data"
    }
   ],
   "source": [
    "# Dummy fit of spline templates for an initial look at the spectra\n",
    "tspl = utils.bspline_templates(wave=np.linspace(0.9, 2.3, 512)*1.e4, df=33)\n",
    "tfit = mb.template_at_z(z=0, templates=tspl)\n",
    "\n",
    "fig1 = mb.oned_figure(bin=2, tfit=tfit, show_rest=False, figsize=(9,3),\n",
    "                      show_beams=True, ylim_percentile=0.1, units='eps')"
   ]
  },
  {
   "cell_type": "code",
   "execution_count": null,
   "id": "fcdc53b2-7b7b-48c8-9551-c3ce20e1af67",
   "metadata": {
    "scrolled": true
   },
   "outputs": [
    {
     "name": "stdout",
     "output_type": "stream",
     "text": [
      "Run id=1410 with fit_args.npy\n"
     ]
    }
   ],
   "source": [
    "# Run the redshift fit\n",
    "from grizli import fitting\n",
    "_ = fitting.run_all_parallel(id, verbose=False,\n",
    "                             get_output_data=True,\n",
    "                             fit_trace_shift=True, zr=[0.1, 3.6])"
   ]
  }
 ],
 "metadata": {
  "kernelspec": {
   "display_name": "Python 3 (ipykernel)",
   "language": "python",
   "name": "python3"
  },
  "language_info": {
   "codemirror_mode": {
    "name": "ipython",
    "version": 3
   },
   "file_extension": ".py",
   "mimetype": "text/x-python",
   "name": "python",
   "nbconvert_exporter": "python",
   "pygments_lexer": "ipython3",
   "version": "3.10.12"
  }
 },
 "nbformat": 4,
 "nbformat_minor": 5
}
