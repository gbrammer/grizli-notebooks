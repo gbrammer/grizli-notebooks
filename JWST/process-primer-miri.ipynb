{
 "cells": [
  {
   "cell_type": "markdown",
   "id": "d7aa2e00",
   "metadata": {
    "toc": true
   },
   "source": [
    "<h1>Table of Contents<span class=\"tocSkip\"></span></h1>\n",
    "<div class=\"toc\"><ul class=\"toc-item\"><li><span><a href=\"#Process-MIRI\" data-toc-modified-id=\"Process-MIRI-1\"><span class=\"toc-item-num\">1&nbsp;&nbsp;</span>Process MIRI</a></span></li><li><span><a href=\"#MAST-query\" data-toc-modified-id=\"MAST-query-2\"><span class=\"toc-item-num\">2&nbsp;&nbsp;</span>MAST query</a></span></li><li><span><a href=\"#pre-fetch-files-for-global-skyflat\" data-toc-modified-id=\"pre-fetch-files-for-global-skyflat-3\"><span class=\"toc-item-num\">3&nbsp;&nbsp;</span>pre-fetch files for global skyflat</a></span><ul class=\"toc-item\"><li><span><a href=\"#Preprocessing-for-headers\" data-toc-modified-id=\"Preprocessing-for-headers-3.1\"><span class=\"toc-item-num\">3.1&nbsp;&nbsp;</span>Preprocessing for headers</a></span></li><li><span><a href=\"#Make-flats-by-filter\" data-toc-modified-id=\"Make-flats-by-filter-3.2\"><span class=\"toc-item-num\">3.2&nbsp;&nbsp;</span>Make flats by filter</a></span></li></ul></li><li><span><a href=\"#Run-pipeline-by-filter\" data-toc-modified-id=\"Run-pipeline-by-filter-4\"><span class=\"toc-item-num\">4&nbsp;&nbsp;</span>Run pipeline by filter</a></span></li><li><span><a href=\"#Combine-into-final-mosaics\" data-toc-modified-id=\"Combine-into-final-mosaics-5\"><span class=\"toc-item-num\">5&nbsp;&nbsp;</span>Combine into final mosaics</a></span><ul class=\"toc-item\"><li><span><a href=\"#HST-mosaics\" data-toc-modified-id=\"HST-mosaics-5.1\"><span class=\"toc-item-num\">5.1&nbsp;&nbsp;</span>HST mosaics</a></span></li></ul></li><li><span><a href=\"#Catalog\" data-toc-modified-id=\"Catalog-6\"><span class=\"toc-item-num\">6&nbsp;&nbsp;</span>Catalog</a></span></li></ul></div>"
   ]
  },
  {
   "cell_type": "markdown",
   "id": "70108025",
   "metadata": {},
   "source": [
    "# Process MIRI\n",
    "\n",
    "Process MIRI exposures in preliminary PRIMER visits"
   ]
  },
  {
   "cell_type": "code",
   "execution_count": 1,
   "id": "fe0de292",
   "metadata": {},
   "outputs": [
    {
     "name": "stdout",
     "output_type": "stream",
     "text": [
      "WORKING_DIRECTORY =  /GrizliImaging/PrimerMiri\n"
     ]
    }
   ],
   "source": [
    "# Work space, can be elsewhere\n",
    "import os\n",
    "import glob\n",
    "\n",
    "if os.path.exists('/GrizliImaging'):\n",
    "    WORKING_DIRECTORY = '/GrizliImaging/PrimerMiri'\n",
    "else:\n",
    "    WORKING_DIRECTORY = os.getcwd()\n",
    "\n",
    "print('WORKING_DIRECTORY = ', WORKING_DIRECTORY)\n",
    "\n",
    "if not os.path.exists(WORKING_DIRECTORY):\n",
    "    os.makedirs(WORKING_DIRECTORY)\n",
    "    \n",
    "os.chdir(WORKING_DIRECTORY)"
   ]
  },
  {
   "cell_type": "code",
   "execution_count": 2,
   "id": "9097336d",
   "metadata": {},
   "outputs": [
    {
     "name": "stdout",
     "output_type": "stream",
     "text": [
      "3.9.13 | packaged by conda-forge | (main, May 27 2022, 17:00:52) \n",
      "[Clang 13.0.1 ]\n",
      "\n",
      "              grizli : 1.6.0.dev58\n",
      "            tristars : 0.1\n",
      "           mastquery : 1.4\n",
      "                 sep : 1.2.1\n",
      "               numpy : 1.23.1\n",
      "               scipy : 1.9.0\n",
      "             astropy : 5.1\n",
      "          astroquery : 0.4.6\n",
      "             shapely : 1.8.2\n",
      "\n",
      "\n",
      "The following task in the stsci.skypac package can be run with TEAL:\n",
      "                                    skymatch                                    \n",
      "The following tasks in the drizzlepac package can be run with TEAL:\n",
      "    astrodrizzle       config_testbed      imagefindpars           mapreg       \n",
      "       photeq            pixreplace           pixtopix            pixtosky      \n",
      "  refimagefindpars       resetbits          runastrodriz          skytopix      \n",
      "     tweakback            tweakreg           updatenpol\n",
      "          drizzlepac : 3.4.2\n"
     ]
    }
   ],
   "source": [
    "# Grizli\n",
    "import importlib\n",
    "import sys\n",
    "\n",
    "# Grizli and requirements, e.g., on google collab\n",
    "try:\n",
    "    import grizli\n",
    "except:\n",
    "    ! git clone https://github.com/gbrammer/grizli.git\n",
    "    os.chdir('grizli')\n",
    "    ! pip install -e ./ -r requirements.txt\n",
    "    \n",
    "    ! pip install pytest\n",
    "    # Fetches config files\n",
    "    ! pytest --disable-warnings\n",
    "    \n",
    "    os.chdir(WORKING_DIRECTORY)\n",
    "    \n",
    "## Module versions\n",
    "print(sys.version + '\\n')\n",
    "\n",
    "for module in ['grizli', 'tristars', 'mastquery', 'sep',\n",
    "               'numpy', 'scipy', 'astropy', 'astroquery', \n",
    "               'shapely', 'drizzlepac']:\n",
    "    #print(module)\n",
    "    try:\n",
    "        mod = importlib.import_module(module)\n",
    "        print('{0:>20} : {1}'.format(module, mod.__version__))\n",
    "    except ModuleNotFoundError:\n",
    "        print('{0:>20} : {1}'.format(module, '*failed*'))"
   ]
  },
  {
   "cell_type": "code",
   "execution_count": 3,
   "id": "1eeb0715",
   "metadata": {},
   "outputs": [
    {
     "name": "stdout",
     "output_type": "stream",
     "text": [
      "CRDS_PATH=/Users/gbrammer/Research/grizli/crds_cache\n",
      "CRDS_SERVER_URL=https://jwst-crds.stsci.edu\n"
     ]
    }
   ],
   "source": [
    "try:\n",
    "    import jwst\n",
    "except ModuleNotFoundError:\n",
    "    ! pip install jwst\n",
    "\n",
    "if os.getenv('CRDS_PATH') is None:\n",
    "    cache_dir = os.path.join(os.getcwd(), 'crds_cache')\n",
    "    print(f'Set CRDS_PATH={cache_dir}')\n",
    "    os.environ['CRDS_PATH'] = cache_dir\n",
    "    if not os.path.exists(cache_dir):\n",
    "        os.makedirs(cache_dir)\n",
    "else:\n",
    "    print(f\"CRDS_PATH={os.getenv('CRDS_PATH')}\")\n",
    "\n",
    "if os.getenv('CRDS_SERVER_URL') is None:\n",
    "    server = 'https://jwst-crds.stsci.edu'\n",
    "    print(f'Set CRDS_SERVER_URL={server}')\n",
    "    os.environ['CRDS_SERVER_URL'] = 'https://jwst-crds.stsci.edu'\n",
    "else:\n",
    "    print(f\"CRDS_SERVER_URL={os.getenv('CRDS_SERVER_URL')}\")\n"
   ]
  },
  {
   "cell_type": "code",
   "execution_count": 4,
   "id": "af35046f",
   "metadata": {},
   "outputs": [],
   "source": [
    "import numpy as np\n",
    "import astropy.units as u\n",
    "\n",
    "import mastquery\n",
    "from mastquery import overlaps, query, jwst\n",
    "import astropy.time\n",
    "\n",
    "from importlib import reload\n",
    "reload(jwst)\n",
    "\n",
    "import grizli\n",
    "from grizli import utils, jwst_utils\n",
    "from grizli.aws import db\n",
    "\n",
    "utils.set_warnings()\n",
    "jwst_utils.set_quiet_logging()\n",
    "\n",
    "import logging\n",
    "logging.basicConfig(level=logging.INFO,\n",
    "                    handlers=[logging.StreamHandler(),\n",
    "                              logging.FileHandler('/tmp/mastquery.log')], \n",
    "                    format = \"%(module)s.%(funcName)s : %(levelname)s : %(message)s\")"
   ]
  },
  {
   "cell_type": "markdown",
   "id": "804feef4",
   "metadata": {},
   "source": [
    "# MAST query"
   ]
  },
  {
   "cell_type": "code",
   "execution_count": 5,
   "id": "3220b512",
   "metadata": {},
   "outputs": [
    {
     "name": "stderr",
     "output_type": "stream",
     "text": [
      "jwst.query_jwst : WARNING : No files with extensions ['rate', 'cal', 'rateints'] found.\n",
      "jwst.query_jwst : WARNING : Available extensions are []\n",
      "jwst.query_jwst : WARNING : No files with extensions ['rate', 'cal', 'rateints'] found.\n",
      "jwst.query_jwst : WARNING : Available extensions are []\n",
      "jwst.query_jwst : WARNING : No files with extensions ['rate', 'cal', 'rateints'] found.\n",
      "jwst.query_jwst : WARNING : Available extensions are []\n"
     ]
    }
   ],
   "source": [
    "# General query\n",
    "filters = []\n",
    "filters += jwst.make_query_filter('productLevel', values=['2a','2b'])\n",
    "\n",
    "if 1:\n",
    "    # PRIMER MIRI\n",
    "    filters += jwst.make_program_filter([1837]) \n",
    "    filters += jwst.make_query_filter('filter', values=['F770W','F1800W'])\n",
    "else:\n",
    "    # CEERS MIRI\n",
    "    filters += jwst.make_program_filter([1345]) \n",
    "    filters += jwst.make_query_filter('filter', values=['F560W','F770W','F1000W','F1130W',\n",
    "                                                        'F1280W','F1500W','F1800W','F2100W'][1:2])\n",
    "    \n",
    "res = jwst.query_all_jwst(instruments=['MIR','NRC','NIS','NRS'],\n",
    "                          recent_days=None, filters=filters, columns='*',\n",
    "                          extensions=['rate','cal', 'rateints'])\n"
   ]
  },
  {
   "cell_type": "code",
   "execution_count": 6,
   "id": "06aadf77",
   "metadata": {},
   "outputs": [
    {
     "data": {
      "text/plain": [
       "24"
      ]
     },
     "execution_count": 6,
     "metadata": {},
     "output_type": "execute_result"
    }
   ],
   "source": [
    "# Some fixes to the query\n",
    "\n",
    "# No spaces in target names\n",
    "res['targname'] = [t.replace(' ','-') for t in res['targname']]\n",
    "res['target'] = [t.replace(' ','-') for t in res['target']]\n",
    "res = res[np.in1d(res['instrument_name'], ['NIRISS','NIRCAM','MIRI'])]\n",
    "\n",
    "# No MIRI spec\n",
    "res = res[res['inst-mode'] != 'MIRI-None']\n",
    "res = res[res['targname'] != 'MIRI-SLEW-TO-HOT-TARGET-NORTH']\n",
    "\n",
    "# Just get rate images\n",
    "for k in ['dataURI','dataURL']:\n",
    "    col = res[k].tolist()\n",
    "    for i, val in enumerate(col):\n",
    "        col[i] = val.replace('_cal.fits','_rate.fits').replace('_rateints','_rate')\n",
    "    \n",
    "    res.remove_column(k)\n",
    "    res[k] = col\n",
    "\n",
    "# Unique filename, since could have found cal and rate files for the same dataset\n",
    "un = utils.Unique(res['dataURL'], verbose=False)\n",
    "\n",
    "keep = res['exptime'] > 0\n",
    "for i in np.where(np.array(un.counts) > 1)[0]:\n",
    "    vi = un.values[i]\n",
    "    j = np.where(un[vi])[0][1:]\n",
    "    keep[j] = False\n",
    "\n",
    "# Skip some modes\n",
    "mask_mode = utils.column_string_operation(res['inst-mode'], ['MASK','WLP',\n",
    "                                                             'FND','P750L',\n",
    "                                                             '1065C','2100C','2300C','1550C','1140C',\n",
    "                                                             #'GR1','GRIS',\n",
    "                                                             'W2',\n",
    "                                                             'GR700','MP','WP','NRM',\n",
    "                                                             'F212N'],\n",
    "                                          method='count')\n",
    "keep &= ~mask_mode\n",
    "\n",
    "if 0:\n",
    "    keep &= res['instrument_name'] == 'NIRCAM'\n",
    "    \n",
    "res = res[keep]\n",
    "len(res)"
   ]
  },
  {
   "cell_type": "code",
   "execution_count": 7,
   "id": "123e9a9f",
   "metadata": {},
   "outputs": [
    {
     "name": "stdout",
     "output_type": "stream",
     "text": [
      "   N  value     \n",
      "====  ==========\n",
      "  24    GO-1837 Dunlop, James S.\n",
      "\n",
      " (24)   GO-1837 Dunlop, James S.  | \"PRIMER: Public Release IMaging for Extragalactic Research\"\n",
      "   Targets:  \n",
      "   Modes:    MIRI-F1800W, MIRI-F770W\n"
     ]
    }
   ],
   "source": [
    "# Query summary\n",
    "import yaml\n",
    "from grizli import utils\n",
    "\n",
    "pi = utils.Unique(res['prog_pi'])\n",
    "pi.exptime = np.array([res['effexptm'][pi[p]].sum() for p in pi.values])\n",
    "\n",
    "js = {}\n",
    "\n",
    "for ii in np.argsort(pi.counts):\n",
    "    p = pi.values[ii]\n",
    "    targs = np.unique(res['targname'][pi[p]])\n",
    "    modes = np.unique(res['inst-mode'][pi[p]])\n",
    "    js[str(p)] = {'N':int(pi.counts[ii]),\n",
    "             'title': str(res['title'][pi[p]][0].strip()), \n",
    "             'targets': [str(t).strip() for t in targs],\n",
    "             'modes': [str(t).strip() for t in modes]}\n",
    "    \n",
    "    print(f\"\\n ({js[p]['N']}) {p}  | \\\"{js[p]['title']}\\\"\")\n",
    "    print(f\"   Targets:  {', '.join(js[p]['targets'])}\")\n",
    "    print(f\"   Modes:    {', '.join(js[p]['modes'])}\")"
   ]
  },
  {
   "cell_type": "code",
   "execution_count": 8,
   "id": "78a56f03",
   "metadata": {},
   "outputs": [
    {
     "name": "stdout",
     "output_type": "stream",
     "text": [
      "Iter #1, N_Patch = 1\n",
      "\n",
      "\n",
      " 1 j021732m0517 34.3795145 -5.2775248333333336\n",
      "target\n",
      "------\n",
      "       \n",
      "\n",
      "filter j021732m0517        MIRI MI.F1800W   12    5361.4\n",
      "filter j021732m0517         MIRI MI.F770W   12    5328.1\n"
     ]
    },
    {
     "data": {
      "image/png": "[encoded data removed]",
      "text/plain": [
       "<Figure size 360x214.175 with 1 Axes>"
      ]
     },
     "metadata": {
      "needs_background": "light"
     },
     "output_type": "display_data"
    }
   ],
   "source": [
    "# Split into overlapping fields\n",
    "import os\n",
    "import mastquery.utils\n",
    "reload(mastquery.utils); reload(overlaps)\n",
    "\n",
    "os.chdir(WORKING_DIRECTORY)\n",
    "\n",
    "# Single group to process together\n",
    "tabs = overlaps.find_overlaps(res, use_parent=True, buffer_arcmin=2, close=False)"
   ]
  },
  {
   "cell_type": "markdown",
   "id": "d9105744",
   "metadata": {},
   "source": [
    "# pre-fetch files for global skyflat\n",
    "\n",
    "Download `rate` files "
   ]
  },
  {
   "cell_type": "code",
   "execution_count": 11,
   "id": "796159d7",
   "metadata": {},
   "outputs": [
    {
     "data": {
      "text/plain": [
       "{'jw01837022001_02101_00001_mirimage_rate.fits': ('EXISTS', None, None),\n",
       " 'jw01837022001_02101_00002_mirimage_rate.fits': ('EXISTS', None, None),\n",
       " 'jw01837022001_04101_00001_mirimage_rate.fits': ('EXISTS', None, None),\n",
       " 'jw01837022001_04101_00002_mirimage_rate.fits': ('EXISTS', None, None),\n",
       " 'jw01837022001_06101_00001_mirimage_rate.fits': ('EXISTS', None, None),\n",
       " 'jw01837022001_06101_00002_mirimage_rate.fits': ('EXISTS', None, None),\n",
       " 'jw01837022001_08101_00001_mirimage_rate.fits': ('EXISTS', None, None),\n",
       " 'jw01837022001_08101_00002_mirimage_rate.fits': ('EXISTS', None, None),\n",
       " 'jw01837014001_02101_00001_mirimage_rate.fits': ('EXISTS', None, None),\n",
       " 'jw01837014001_02101_00002_mirimage_rate.fits': ('EXISTS', None, None),\n",
       " 'jw01837014001_04101_00001_mirimage_rate.fits': ('EXISTS', None, None),\n",
       " 'jw01837014001_04101_00002_mirimage_rate.fits': ('EXISTS', None, None),\n",
       " 'jw01837014001_06101_00001_mirimage_rate.fits': ('EXISTS', None, None),\n",
       " 'jw01837014001_06101_00002_mirimage_rate.fits': ('EXISTS', None, None),\n",
       " 'jw01837014001_08101_00001_mirimage_rate.fits': ('EXISTS', None, None),\n",
       " 'jw01837014001_08101_00002_mirimage_rate.fits': ('EXISTS', None, None),\n",
       " 'jw01837023001_02101_00001_mirimage_rate.fits': ('EXISTS', None, None),\n",
       " 'jw01837023001_02101_00002_mirimage_rate.fits': ('EXISTS', None, None),\n",
       " 'jw01837023001_04101_00001_mirimage_rate.fits': ('EXISTS', None, None),\n",
       " 'jw01837023001_04101_00002_mirimage_rate.fits': ('EXISTS', None, None),\n",
       " 'jw01837023001_06101_00001_mirimage_rate.fits': ('EXISTS', None, None),\n",
       " 'jw01837023001_06101_00002_mirimage_rate.fits': ('EXISTS', None, None),\n",
       " 'jw01837023001_08101_00001_mirimage_rate.fits': ('EXISTS', None, None),\n",
       " 'jw01837023001_08101_00002_mirimage_rate.fits': ('EXISTS', None, None)}"
      ]
     },
     "execution_count": 11,
     "metadata": {},
     "output_type": "execute_result"
    }
   ],
   "source": [
    "#root = 'j021732m0517'\n",
    "#root = 'j142008p5256'\n",
    "root = tabs[0].meta['NAME']\n",
    "\n",
    "os.chdir(WORKING_DIRECTORY)\n",
    "\n",
    "if not os.path.exists(root):\n",
    "    os.mkdir(root)\n",
    "    \n",
    "os.chdir(os.path.join(WORKING_DIRECTORY, root))\n",
    "for d in ['RAW','Prep']:\n",
    "    if not os.path.exists(d):\n",
    "        os.mkdir(d)\n",
    "        print(d)\n",
    "        \n",
    "os.chdir(os.path.join(WORKING_DIRECTORY, root, 'RAW'))\n",
    "\n",
    "# Requires MAST_TOKEN environment variable to be set\n",
    "# see https://auth.mast.stsci.edu/token\n",
    "mastquery.utils.download_from_mast(res)"
   ]
  },
  {
   "cell_type": "markdown",
   "id": "fea87fc0",
   "metadata": {},
   "source": [
    "## Preprocessing for headers\n",
    "\n",
    "0. The script downloads `rate.fits` uncalibrated ramp files\n",
    "1. Run `AssignWcsStep` and derive improved SIP WCS headers\n",
    "2. Run `FlatFieldStep` and `PhotomStep` manually \n",
    "3. Set DQ bit around image FOV and coronagraph"
   ]
  },
  {
   "cell_type": "code",
   "execution_count": 12,
   "id": "5fef02b9",
   "metadata": {},
   "outputs": [],
   "source": [
    "from grizli import prep\n",
    "\n",
    "# Explicitly set CRDS_CONTEXT\n",
    "os.environ['CRDS_CONTEXT'] = 'jwst_0988.pmap'\n",
    "\n",
    "os.chdir(os.path.join(WORKING_DIRECTORY, root, 'RAW'))\n",
    "\n",
    "files = glob.glob('*rate.fits')\n",
    "files.sort()\n",
    "\n",
    "os.chdir(os.path.join(WORKING_DIRECTORY, root, 'Prep'))\n",
    "\n",
    "for file in files:\n",
    "    if not os.path.exists(file):\n",
    "        prep.fresh_flt_file(file)"
   ]
  },
  {
   "cell_type": "markdown",
   "id": "1ad5e7bb",
   "metadata": {},
   "source": [
    "## Make flats by filter"
   ]
  },
  {
   "cell_type": "code",
   "execution_count": 16,
   "id": "cd2669fa",
   "metadata": {},
   "outputs": [
    {
     "name": "stdout",
     "output_type": "stream",
     "text": [
      "   N  value     \n",
      "====  ==========\n",
      "  12  F1800W-FASTR1-1837\n",
      "  12  F770W-FASTR1-1837\n",
      "\n",
      "Visits:\n",
      "0 miri-f1800w-fastr1-1837\n",
      "1 miri-f770w-fastr1-1837\n"
     ]
    }
   ],
   "source": [
    "# Group by filter\n",
    "import astropy.io.fits as pyfits\n",
    "from grizli.aws import visit_processor\n",
    "res = visit_processor.res_query_from_local()\n",
    "\n",
    "keys = ['readpatt']\n",
    "cols = {}\n",
    "for k in keys:\n",
    "    cols[k] = []\n",
    "\n",
    "for d in res['dataset']:\n",
    "    im = pyfits.open(f'{d}_rate.fits')\n",
    "    for k in keys:\n",
    "        cols[k].append(im[0].header[k])\n",
    "\n",
    "for k in keys:\n",
    "    res[k] = cols[k]\n",
    "    \n",
    "res['mode'] = [f'{f}-{p}-{d[3:7]}' for f, p, d in zip(res['filter'], res['readpatt'], res['dataset'])]\n",
    "\n",
    "un = utils.Unique(res['mode'])\n",
    "\n",
    "visits = []\n",
    "print('\\nVisits:')\n",
    "for i, f in enumerate(un.values):\n",
    "    ix = un[f]\n",
    "    files = [f'{d}_rate.fits' for d in res['dataset'][un[f]]]\n",
    "    visit = {'product':f'miri-{f.lower()}', 'files':files}\n",
    "    visits.append(visit)\n",
    "    print(i, visit['product'])"
   ]
  },
  {
   "cell_type": "code",
   "execution_count": 17,
   "id": "879ba421",
   "metadata": {},
   "outputs": [
    {
     "name": "stdout",
     "output_type": "stream",
     "text": [
      "miri-f1800w-fastr1-1837_skyflat.fits found\n",
      "miri-f770w-fastr1-1837_skyflat.fits found\n",
      "{'F1800W': 'miri-f1800w-fastr1-1837_skyflat.fits', 'F770W': 'miri-f770w-fastr1-1837_skyflat.fits'}\n"
     ]
    }
   ],
   "source": [
    "flat_files = {}\n",
    "for visit in visits:\n",
    "    flat_file = f\"{visit['product']}_skyflat.fits\"\n",
    "    if not os.path.exists(flat_file):\n",
    "        prep.make_visit_average_flat(visit, clip_max=0, threshold=5, dilate=3, apply=False)\n",
    "    else:\n",
    "        print(f'{flat_file} found')\n",
    "    \n",
    "    im = pyfits.open(flat_file)\n",
    "    flat_files[im[0].header['filter']] = flat_file\n",
    "\n",
    "print(flat_files)"
   ]
  },
  {
   "cell_type": "code",
   "execution_count": 18,
   "id": "3c01ab6d",
   "metadata": {},
   "outputs": [],
   "source": [
    "! cp *skyflat.fits {WORKING_DIRECTORY}/"
   ]
  },
  {
   "cell_type": "markdown",
   "id": "4909e54f",
   "metadata": {},
   "source": [
    "# Run pipeline by filter"
   ]
  },
  {
   "cell_type": "code",
   "execution_count": 19,
   "id": "a9d7729b",
   "metadata": {},
   "outputs": [],
   "source": [
    "from grizli.pipeline import auto_script\n",
    "kws = auto_script.get_yml_parameters()\n",
    "\n",
    "# Stop after exposure preprocessing\n",
    "kws['kill'] = 'preprocess'\n",
    "\n",
    "# Use database astrometry reference (HSC catalog for UDS)\n",
    "kws['preprocess_args']['master_radec'] = 'astrometry_db'"
   ]
  },
  {
   "cell_type": "code",
   "execution_count": 20,
   "id": "0b5dd40c",
   "metadata": {},
   "outputs": [
    {
     "name": "stdout",
     "output_type": "stream",
     "text": [
      "\u001b[34mj021732m0517\u001b[m\u001b[m                         j142008p5256_footprint.fits\r\n",
      "j021732m0517.auto_script.log.txt     j142008p5256_footprint.pdf\r\n",
      "j021732m0517_footprint.fits          j142008p5256_footprint.yaml\r\n",
      "j021732m0517_footprint.pdf           j142008p5256_info.dat\r\n",
      "j021732m0517_footprint.yaml          miri-f1800w-fastr1-1837_skyflat.fits\r\n",
      "j021732m0517_info.dat                miri-f770w-fastr1-1837_skyflat.fits\r\n",
      "\u001b[34mj142008p5256\u001b[m\u001b[m                         miri-f770w-slowr1-1345_skyflat.fits\r\n",
      "j142008p5256.auto_script.log.txt     overlaps.yaml\r\n"
     ]
    }
   ],
   "source": [
    "os.chdir(WORKING_DIRECTORY)\n",
    "! ls "
   ]
  },
  {
   "cell_type": "code",
   "execution_count": 21,
   "id": "315d3a51",
   "metadata": {},
   "outputs": [
    {
     "name": "stdout",
     "output_type": "stream",
     "text": [
      "# (2022-10-06 08:27:07.770)\n",
      "\n",
      "auto_script.parse_visits(**{'files': [], 'field_root': 'j021732m0517', 'RAW_PATH': '/GrizliImaging/PrimerMiri/j021732m0517/RAW', 'use_visit': True, 'combine_same_pa': False, 'combine_minexp': 2, 'is_dash': False, 'filters': ['F1800W'], 'max_dt': 1.0, 'visit_split_shift': 1.5, 'file_query': '*'})\n",
      "\n",
      "indef-01837-022-250.0-F1800W 4\n",
      "indef-01837-014-253.0-F1800W 4\n",
      "indef-01837-023-254.0-F1800W 4\n",
      "** Combine Singles: **\n",
      "0 indef-01837-022-250.0-f1800w 4\n",
      "1 indef-01837-014-253.0-f1800w 4\n",
      "2 indef-01837-023-254.0-f1800w 4\n",
      "\n",
      " == Grism groups ==\n",
      "\n",
      "# (2022-10-06 08:27:08.082)\n",
      "\n",
      "auto_script.preprocess(**{'field_root': 'j021732m0517', 'HOME_PATH': '/GrizliImaging/PrimerMiri', 'PERSIST_PATH': '/GrizliImaging/PrimerMiri/j021732m0517/Persistence', 'min_overlap': 0.2, 'make_combined': False, 'catalogs': ['PS1', 'DES', 'NSC', 'SDSS', 'GAIA', 'WISE'], 'use_visit': True, 'master_radec': 'astrometry_db', 'parent_radec': None, 'use_first_radec': False, 'skip_imaging': False, 'clean': True, 'skip_single_optical_visits': False, 'visit_prep_args': {'align_thresh': None, 'align_rms_limit': 2, 'align_mag_limits': [14, 28, 0.2], 'align_assume_close': False, 'align_transform': None, 'align_ref_border': 100, 'max_err_percentile': 99, 'align_min_flux_radius': 1.0, 'catalog_mask_pad': 0.05, 'match_catalog_density': False, 'skymethod': 'localmin', 'drizzle_params': {}, 'single_image_CRs': True, 'run_tweak_align': False, 'tweak_threshold': 1.5, 'tweak_fit_order': -1, 'tweak_max_dist': 100, 'tweak_n_min': 10, 'tweak_ref_exp': 0, 'align_simple': True, 'align_clip': 20, 'column_average': True, 'sky_iter': 10, 'iter_atol': 0.0001, 'imaging_bkg_params': {'bh': 256, 'bw': 256, 'fh': 3, 'fw': 3, 'pixel_scale': 0.1, 'get_median': False}, 'run_separate_chip_sky': True, 'fix_stars': True, 'reference_catalogs': ['LS_DR9', 'PS1', 'DES', 'DSC', 'SDSS', 'GAIA', 'WISE'], 'outlier_threshold': 4, 'nircam_wisp_kwargs': {'niter': 3, 'update': True}, 'oneoverf_kwargs': {'thresholds': [10, 1.5], 'dilate_iter': [24, 2], 'image_sn_cut': -1}, 'snowball_kwargs': {'snowball_erode': 4, 'snowball_dilate': 18, 'mask_bit': 1024, 'instruments': ['NIRCAM', 'NIRISS']}, 'miri_skyflat': False, 'miri_skyfile': '/GrizliImaging/PrimerMiri/miri-f1800w-fastr1-1837_skyflat.fits', 'use_self_catalog': False}, 'persistence_args': {'dq_value': 1024, 'err_threshold': 0.5, 'grow_mask': 3, 'verbose': True, 'reset': False}})\n",
      "\n",
      "Skip indef-01837-022-250.0-f1800w\n",
      "Skip indef-01837-014-253.0-f1800w\n",
      "Skip indef-01837-023-254.0-f1800w\n",
      "kill='preprocess'\n",
      "Update exposure footprints in ./j021732m0517_visits.yaml\n",
      "# (2022-10-06 08:27:08.459)\n",
      "\n",
      "auto_script.parse_visits(**{'files': [], 'field_root': 'j021732m0517', 'RAW_PATH': '/GrizliImaging/PrimerMiri/j021732m0517/RAW', 'use_visit': True, 'combine_same_pa': False, 'combine_minexp': 2, 'is_dash': False, 'filters': ['F770W'], 'max_dt': 1.0, 'visit_split_shift': 1.5, 'file_query': '*'})\n",
      "\n",
      "indef-01837-022-250.0-F770W 4\n",
      "indef-01837-014-253.0-F770W 4\n",
      "indef-01837-023-254.0-F770W 4\n",
      "** Combine Singles: **\n",
      "0 indef-01837-022-250.0-f770w 4\n",
      "1 indef-01837-014-253.0-f770w 4\n",
      "2 indef-01837-023-254.0-f770w 4\n",
      "\n",
      " == Grism groups ==\n",
      "\n",
      "# (2022-10-06 08:27:08.748)\n",
      "\n",
      "auto_script.preprocess(**{'field_root': 'j021732m0517', 'HOME_PATH': '/GrizliImaging/PrimerMiri', 'PERSIST_PATH': '/GrizliImaging/PrimerMiri/j021732m0517/Persistence', 'min_overlap': 0.2, 'make_combined': False, 'catalogs': ['PS1', 'DES', 'NSC', 'SDSS', 'GAIA', 'WISE'], 'use_visit': True, 'master_radec': 'astrometry_db', 'parent_radec': None, 'use_first_radec': False, 'skip_imaging': False, 'clean': True, 'skip_single_optical_visits': False, 'visit_prep_args': {'align_thresh': None, 'align_rms_limit': 2, 'align_mag_limits': [14, 28, 0.2], 'align_assume_close': False, 'align_transform': None, 'align_ref_border': 100, 'max_err_percentile': 99, 'align_min_flux_radius': 1.0, 'catalog_mask_pad': 0.05, 'match_catalog_density': False, 'skymethod': 'localmin', 'drizzle_params': {}, 'single_image_CRs': True, 'run_tweak_align': False, 'tweak_threshold': 1.5, 'tweak_fit_order': -1, 'tweak_max_dist': 100, 'tweak_n_min': 10, 'tweak_ref_exp': 0, 'align_simple': True, 'align_clip': 20, 'column_average': True, 'sky_iter': 10, 'iter_atol': 0.0001, 'imaging_bkg_params': {'bh': 256, 'bw': 256, 'fh': 3, 'fw': 3, 'pixel_scale': 0.1, 'get_median': False}, 'run_separate_chip_sky': True, 'fix_stars': True, 'reference_catalogs': ['LS_DR9', 'PS1', 'DES', 'DSC', 'SDSS', 'GAIA', 'WISE'], 'outlier_threshold': 4, 'nircam_wisp_kwargs': {'niter': 3, 'update': True}, 'oneoverf_kwargs': {'thresholds': [10, 1.5], 'dilate_iter': [24, 2], 'image_sn_cut': -1}, 'snowball_kwargs': {'snowball_erode': 4, 'snowball_dilate': 18, 'mask_bit': 1024, 'instruments': ['NIRCAM', 'NIRISS']}, 'miri_skyflat': False, 'miri_skyfile': '/GrizliImaging/PrimerMiri/miri-f770w-fastr1-1837_skyflat.fits', 'use_self_catalog': False}, 'persistence_args': {'dq_value': 1024, 'err_threshold': 0.5, 'grow_mask': 3, 'verbose': True, 'reset': False}})\n",
      "\n",
      "Skip indef-01837-022-250.0-f770w\n",
      "Skip indef-01837-014-253.0-f770w\n",
      "Skip indef-01837-023-254.0-f770w\n",
      "kill='preprocess'\n",
      "Update exposure footprints in ./j021732m0517_visits.yaml\n"
     ]
    }
   ],
   "source": [
    "os.chdir(WORKING_DIRECTORY)\n",
    "\n",
    "kws['fetch_files_args'] = None\n",
    "\n",
    "# Don't do fine alignment for MIRI, which fails on redder bands with few sources\n",
    "miri_prep = dict(run_tweak_align=False,\n",
    "                 align_mag_limits=[14,28,0.2],\n",
    "                 align_clip=20, \n",
    "                 align_simple=True)\n",
    "\n",
    "for k in miri_prep:\n",
    "    kws['visit_prep_args'][k] = miri_prep[k]\n",
    "\n",
    "filters = np.unique(res['filter'])\n",
    "\n",
    "for filt in flat_files:\n",
    "    os.chdir(WORKING_DIRECTORY)\n",
    "\n",
    "    kws['filters'] = [filt]\n",
    "    kws['visit_prep_args']['miri_skyfile'] = f\"{WORKING_DIRECTORY}/{flat_files[filt]}\"\n",
    "    \n",
    "    auto_script.go(root, **kws)"
   ]
  },
  {
   "cell_type": "markdown",
   "id": "778d2ae1",
   "metadata": {},
   "source": [
    "# Combine into final mosaics"
   ]
  },
  {
   "cell_type": "code",
   "execution_count": 22,
   "id": "78f2d32f",
   "metadata": {},
   "outputs": [
    {
     "name": "stdout",
     "output_type": "stream",
     "text": [
      "  0/ 24: jw01837014001_02101_00001_mirimage_rate.fits[SCI,1]    3.68\n",
      "  1/ 24: jw01837014001_02101_00002_mirimage_rate.fits[SCI,1]    3.74\n",
      "  2/ 24: jw01837014001_04101_00001_mirimage_rate.fits[SCI,1]    3.74\n",
      "  3/ 24: jw01837014001_04101_00002_mirimage_rate.fits[SCI,1]    3.74\n",
      "  4/ 24: jw01837014001_06101_00001_mirimage_rate.fits[SCI,1]    3.74\n",
      "  5/ 24: jw01837014001_06101_00002_mirimage_rate.fits[SCI,1]    3.75\n",
      "  6/ 24: jw01837014001_08101_00001_mirimage_rate.fits[SCI,1]    3.75\n",
      "  7/ 24: jw01837014001_08101_00002_mirimage_rate.fits[SCI,1]    3.75\n",
      "  8/ 24: jw01837022001_02101_00001_mirimage_rate.fits[SCI,1]    7.42\n",
      "  9/ 24: jw01837022001_02101_00002_mirimage_rate.fits[SCI,1]    7.49\n",
      " 10/ 24: jw01837022001_04101_00001_mirimage_rate.fits[SCI,1]    7.49\n",
      " 11/ 24: jw01837022001_04101_00002_mirimage_rate.fits[SCI,1]    7.49\n",
      " 12/ 24: jw01837022001_06101_00001_mirimage_rate.fits[SCI,1]    7.49\n",
      " 13/ 24: jw01837022001_06101_00002_mirimage_rate.fits[SCI,1]    7.50\n",
      " 14/ 24: jw01837022001_08101_00001_mirimage_rate.fits[SCI,1]    7.50\n",
      " 15/ 24: jw01837022001_08101_00002_mirimage_rate.fits[SCI,1]    7.50\n",
      " 16/ 24: jw01837023001_02101_00001_mirimage_rate.fits[SCI,1]    9.84\n",
      " 17/ 24: jw01837023001_02101_00002_mirimage_rate.fits[SCI,1]    9.90\n",
      " 18/ 24: jw01837023001_04101_00001_mirimage_rate.fits[SCI,1]    9.90\n",
      " 19/ 24: jw01837023001_04101_00002_mirimage_rate.fits[SCI,1]    9.90\n",
      " 20/ 24: jw01837023001_06101_00001_mirimage_rate.fits[SCI,1]    9.90\n",
      " 21/ 24: jw01837023001_06101_00002_mirimage_rate.fits[SCI,1]    9.90\n",
      " 22/ 24: jw01837023001_08101_00001_mirimage_rate.fits[SCI,1]    9.90\n",
      " 23/ 24: jw01837023001_08101_00002_mirimage_rate.fits[SCI,1]    9.90\n",
      "\n",
      "  Mosaic WCS: (34.39323,-5.27521)  8.2'x3.6'  0.100\"/pix\n",
      "\n",
      "Skip j021732m0517-f1800w\n",
      "Skip j021732m0517-f770w\n"
     ]
    }
   ],
   "source": [
    "import glob\n",
    "import astropy.wcs as pywcs\n",
    "from grizli.aws import visit_processor\n",
    "\n",
    "files = glob.glob('*rate.fits')\n",
    "files.sort()\n",
    "\n",
    "miri_pixscale = 0.1\n",
    "\n",
    "hdu = utils.make_maximal_wcs(files=files, pixel_scale=miri_pixscale,\n",
    "                             pad=4, theta=0, verbose=True)\n",
    "\n",
    "wcs = pywcs.WCS(hdu.header)\n",
    "\n",
    "res = visit_processor.res_query_from_local()\n",
    "\n",
    "_ = visit_processor.cutout_mosaic(root,\n",
    "                                  ir_wcs=wcs,\n",
    "                                  kernel='square', pixfrac=0.8,\n",
    "                                  clean_flt=False, \n",
    "                                  s3output=None,\n",
    "                                  gzip_output=False,\n",
    "                                  skip_existing=True,\n",
    "                                  res=res,\n",
    "                                  half_optical=False\n",
    "                                  )\n"
   ]
  },
  {
   "cell_type": "markdown",
   "id": "7497ae21",
   "metadata": {},
   "source": [
    "## HST mosaics\n",
    "\n",
    "Contact G. Brammer for access credentials to the db for querying HST/JWST exposures processed with the `grizli` pipeline."
   ]
  },
  {
   "cell_type": "code",
   "execution_count": null,
   "id": "42f52c0f",
   "metadata": {},
   "outputs": [],
   "source": [
    "# HST\n",
    "_ = visit_processor.cutout_mosaic(root, filters=['F098M','F105W','F110W','F125W','F140W','F160W'],\n",
    "                                  ir_wcs=wcs,\n",
    "                                  kernel='square', pixfrac=0.8,\n",
    "                                  clean_flt=True, \n",
    "                                  s3output=None,\n",
    "                                  gzip_output=False,\n",
    "                                  skip_existing=True,\n",
    "                                  half_optical=False\n",
    "                                  )\n"
   ]
  },
  {
   "cell_type": "code",
   "execution_count": null,
   "id": "81ea653d",
   "metadata": {},
   "outputs": [],
   "source": [
    "_ = visit_processor.cutout_mosaic(root, filters=['F814W'],\n",
    "                                  ir_wcs=wcs,\n",
    "                                  kernel='square', pixfrac=0.8,\n",
    "                                  clean_flt=True, \n",
    "                                  s3output=None,\n",
    "                                  gzip_output=False,\n",
    "                                  skip_existing=True,\n",
    "                                  half_optical=True\n",
    "                                  )"
   ]
  },
  {
   "cell_type": "markdown",
   "id": "36b22e39",
   "metadata": {},
   "source": [
    "# Catalog\n",
    "\n",
    "Make a catalog with matched aperture photometry in HST and MIRI filters"
   ]
  },
  {
   "cell_type": "code",
   "execution_count": null,
   "id": "48ce83e7",
   "metadata": {},
   "outputs": [],
   "source": [
    "from grizli.pipeline import auto_script\n",
    "reload(auto_script)\n",
    "\n",
    "comb = {'ir':['F125W','F160W','F770W']}\n",
    "\n",
    "auto_script.make_filter_combinations(root, weight_fnu=2, force_photfnu=1.e-8, filter_combinations=comb)"
   ]
  },
  {
   "cell_type": "code",
   "execution_count": null,
   "id": "f0f056fe",
   "metadata": {},
   "outputs": [],
   "source": [
    "auto_script.multiband_catalog(field_root=root, \n",
    "                              threshold=1.5,\n",
    "                              bkg_params={'bw': 50, 'bh': 50,\n",
    "                                          'fw': 3, 'fh': 3, 'pixel_scale': 0.04},\n",
    "                              get_all_filters=True,\n",
    "                              phot_err_scale=1.0)"
   ]
  },
  {
   "cell_type": "code",
   "execution_count": null,
   "id": "221499c0",
   "metadata": {},
   "outputs": [],
   "source": [
    "! ls *phot.fits"
   ]
  },
  {
   "cell_type": "code",
   "execution_count": null,
   "id": "42b74161",
   "metadata": {},
   "outputs": [],
   "source": [
    "# Photoz\n",
    "from grizli.pipeline import photoz\n",
    "from importlib import reload\n",
    "reload(photoz)\n",
    "\n",
    "from grizli import utils\n",
    "utils.set_warnings()\n",
    "\n",
    "jwst_trans = {'f115wn-clear':309,\n",
    "              'f200wn-clear':311,\n",
    "              'f070w-clear':362,\n",
    "              'f090w-clear':363,\n",
    "              'f115w-clear':364,\n",
    "              'f150w-clear':365,\n",
    "              'f200w-clear':366,\n",
    "              #'f212n-clear':374,\n",
    "              'f277w-clear':375,\n",
    "              'f300m-clear':380,\n",
    "              'f356w-clear':376,\n",
    "              'f410m-clear':383,\n",
    "              'f444w-clear':377,\n",
    "              'f480m-clear':386,\n",
    "              'f115wn':309,\n",
    "              'f200wn':311,\n",
    "              'f070w':362,\n",
    "              'f090w':363,\n",
    "              'f115w':364,\n",
    "              'f150w':365,\n",
    "              'f200w':366,\n",
    "              'f277w':375,\n",
    "              'f300m':380,\n",
    "              'f356w':376,\n",
    "              'f410m':383,\n",
    "              'f444w':377,\n",
    "              'f480m':386,\n",
    "              'f560w':395,\n",
    "              'f770w':396,\n",
    "              'f1000w':397,\n",
    "              'f1130w':398,\n",
    "              'f1280w':399,\n",
    "              'f1500w':400,\n",
    "              'f1800w':401,\n",
    "              'f2100w':402,\n",
    "             }\n",
    "\n",
    "filter_trans = photoz.FILTER_TRANS\n",
    "for k in jwst_trans:\n",
    "    filter_trans[k] = jwst_trans[k]\n",
    "\n",
    "extra_params = {'TEMPLATES_FILE':'templates/xspline_templates/corr_sfhz_13.param',\n",
    "                'TEMP_ERR_A2':1.0, \n",
    "                'TEMP_ERR_FILE':'templates/template_error_cosmos2020.txt'}\n",
    "\n",
    "extra_params['TEMPLATES_FILE'] = 'templates/xspline_templates/carnall_sfhz_13.param'\n",
    "\n",
    "_ = photoz.eazy_photoz(root, object_only=False, beta_prior=False, prior=False,\n",
    "                       aper_ix=1, z_max=18,\n",
    "                       filter_trans=filter_trans, \n",
    "                       extra_rf_filters = [120, 121, 156, 157, 158, 159, 160,\n",
    "                                                    414, 415, 416], \n",
    "                       force=True, force_apcorr=True, \n",
    "                       extra_params=extra_params)\n",
    "\n",
    "self, cat, zout = _"
   ]
  },
  {
   "cell_type": "code",
   "execution_count": null,
   "id": "8eea97aa",
   "metadata": {},
   "outputs": [],
   "source": [
    "import grizli.ds9\n",
    "ds9 = grizli.ds9.DS9()"
   ]
  },
  {
   "cell_type": "code",
   "execution_count": null,
   "id": "ec52499f",
   "metadata": {},
   "outputs": [],
   "source": [
    "zmax = 11.5\n",
    "zmin = 9\n",
    "\n",
    "zra = (9, 11.5)\n",
    "\n",
    "zra = (0, 2.5)\n",
    "\n",
    "if 1:\n",
    "    zra = None\n",
    "\n",
    "xlim = (0.2, 20)\n",
    "#xlim = (0.3, 25)\n",
    "\n",
    "_ = photoz.show_from_ds9(ds9, self, zout, xlim=xlim, show_stars=True, show_components=True)\n",
    "if zra is not None:\n",
    "    _[0][0].axes[-1].set_xlim(*zra)\n",
    "\n",
    "_ = photoz.show_from_ds9(ds9, self, zout, show_fnu=1, xlim=xlim)\n",
    "if zra is not None:\n",
    "    _[0][0].axes[-1].set_xlim(*zra)\n",
    "\n",
    "ix = _[0][1]['ix']\n",
    "\n",
    "_ra, _dec = self.cat['ra'][ix], self.cat['dec'][ix]\n",
    "\n",
    "import astropy.time\n",
    "print('(ra, dec)=', _ra, _dec, '; ', astropy.time.Time.now().iso)\n"
   ]
  },
  {
   "cell_type": "code",
   "execution_count": null,
   "id": "1fae0d9c",
   "metadata": {},
   "outputs": [],
   "source": []
  }
 ],
 "metadata": {
  "kernelspec": {
   "display_name": "Python 3 (ipykernel)",
   "language": "python",
   "name": "python3"
  },
  "language_info": {
   "codemirror_mode": {
    "name": "ipython",
    "version": 3
   },
   "file_extension": ".py",
   "mimetype": "text/x-python",
   "name": "python",
   "nbconvert_exporter": "python",
   "pygments_lexer": "ipython3",
   "version": "3.9.13"
  },
  "toc": {
   "base_numbering": 1,
   "nav_menu": {},
   "number_sections": true,
   "sideBar": true,
   "skip_h1_title": false,
   "title_cell": "Table of Contents",
   "title_sidebar": "Contents",
   "toc_cell": true,
   "toc_position": {
    "height": "calc(100% - 180px)",
    "left": "10px",
    "top": "150px",
    "width": "360.443px"
   },
   "toc_section_display": true,
   "toc_window_display": true
  }
 },
 "nbformat": 4,
 "nbformat_minor": 5
}
