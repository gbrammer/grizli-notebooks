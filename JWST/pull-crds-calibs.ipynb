{
 "cells": [
  {
   "cell_type": "markdown",
   "id": "bfebe508",
   "metadata": {
    "toc": true
   },
   "source": [
    "<h1>Table of Contents<span class=\"tocSkip\"></span></h1>\n",
    "<div class=\"toc\"><ul class=\"toc-item\"><li><span><a href=\"#Pull-flat,-distortion-calibs-for-JWST\" data-toc-modified-id=\"Pull-flat,-distortion-calibs-for-JWST-1\"><span class=\"toc-item-num\">1&nbsp;&nbsp;</span>Pull flat, distortion calibs for JWST</a></span></li><li><span><a href=\"#Set-context\" data-toc-modified-id=\"Set-context-2\"><span class=\"toc-item-num\">2&nbsp;&nbsp;</span>Set context</a></span><ul class=\"toc-item\"><li><span><a href=\"#NIRISS\" data-toc-modified-id=\"NIRISS-2.1\"><span class=\"toc-item-num\">2.1&nbsp;&nbsp;</span>NIRISS</a></span></li><li><span><a href=\"#MIRI\" data-toc-modified-id=\"MIRI-2.2\"><span class=\"toc-item-num\">2.2&nbsp;&nbsp;</span>MIRI</a></span></li><li><span><a href=\"#NIRCam-SW\" data-toc-modified-id=\"NIRCam-SW-2.3\"><span class=\"toc-item-num\">2.3&nbsp;&nbsp;</span>NIRCam SW</a></span></li><li><span><a href=\"#NIRCam-LW\" data-toc-modified-id=\"NIRCam-LW-2.4\"><span class=\"toc-item-num\">2.4&nbsp;&nbsp;</span>NIRCam LW</a></span></li></ul></li></ul></div>"
   ]
  },
  {
   "cell_type": "markdown",
   "id": "f87b9956",
   "metadata": {},
   "source": [
    "# Pull flat, distortion calibs for JWST\n",
    "\n",
    "The idea here is to download and cache all of the basic calibration files for a specific CRDS_CONTEXT that are needed by `grizli` so that they don't need to be downloaded at runtime.\n",
    "\n",
    "1. Set CRDS_CONTEXT\n",
    "2. Loop over FILTER / PUPIL keywords for exposures of a given instrument\n",
    "3. Run images through `grizli.prep.fresh_flt_file` to download and cache flat and distortion calibrations for that CRDS_CONTEXT\n"
   ]
  },
  {
   "cell_type": "code",
   "execution_count": 1,
   "id": "789946b4",
   "metadata": {},
   "outputs": [],
   "source": [
    "import os\n",
    "import astropy.io.fits as pyfits\n",
    "\n",
    "import jwst\n",
    "from jwst.wfss_contam import WfssContamStep\n",
    "from jwst.flatfield import FlatFieldStep\n",
    "from jwst.assign_wcs import AssignWcsStep\n",
    "\n",
    "from grizli import prep, utils\n"
   ]
  },
  {
   "cell_type": "markdown",
   "id": "4829c6f8",
   "metadata": {},
   "source": [
    "# Set context"
   ]
  },
  {
   "cell_type": "code",
   "execution_count": 2,
   "id": "6f708092",
   "metadata": {},
   "outputs": [],
   "source": [
    "os.environ['CRDS_CONTEXT'] = 'jwst_0916.pmap'"
   ]
  },
  {
   "cell_type": "code",
   "execution_count": 3,
   "id": "6646cb3b",
   "metadata": {},
   "outputs": [
    {
     "name": "stdout",
     "output_type": "stream",
     "text": [
      "jw01283001001_01101_00001_mirimage_cal.fits.gz\r\n",
      "jw01324001001_01101_00003_nis_rate.fits.gz\r\n",
      "jw01345011001_01101_00001_nrca5_rate.fits.gz\r\n",
      "jw01433010001_01101_00005_nrca1_cal.fits.gz\r\n"
     ]
    }
   ],
   "source": [
    "os.chdir('/Users/gbrammer/Research/JWST/PullCrdsContext')\n",
    "\n",
    "_log = f\"{os.environ['CRDS_CONTEXT']}.log\"\n",
    "\n",
    "if not os.path.exists(_log):\n",
    "    with open(_log, 'w') as fp:\n",
    "        fp.write('# inst filt pup\\n')\n",
    "        fp.write('inst filt pup\\n')\n",
    "\n",
    "if not os.path.exists('Orig'):\n",
    "    os.system('aws s3 sync s3://grizli-v2/pull-crds-files/ Orig/')\n",
    "\n",
    "! ls Orig/"
   ]
  },
  {
   "cell_type": "markdown",
   "id": "60b5233b",
   "metadata": {},
   "source": [
    "## NIRISS\n",
    "\n",
    "``flat``, ``distortion`` and ``wfssbkg`` references"
   ]
  },
  {
   "cell_type": "code",
   "execution_count": 4,
   "id": "6734d0e6",
   "metadata": {},
   "outputs": [
    {
     "name": "stdout",
     "output_type": "stream",
     "text": [
      "(skip) NIRISS CLEAR F090W\n",
      "(skip) NIRISS CLEAR F115W\n",
      "(skip) NIRISS CLEAR F150W\n",
      "(skip) NIRISS CLEAR F200W\n",
      "(skip) NIRISS GR150R F090W\n",
      "(skip) NIRISS GR150R F115W\n",
      "(skip) NIRISS GR150R F150W\n",
      "(skip) NIRISS GR150R F200W\n",
      "(skip) NIRISS GR150C F090W\n",
      "(skip) NIRISS GR150C F115W\n",
      "(skip) NIRISS GR150C F150W\n",
      "(skip) NIRISS GR150C F200W\n"
     ]
    }
   ],
   "source": [
    "from jwst.wfss_contam import WfssContamStep\n",
    "        \n",
    "log = utils.read_catalog(_log)\n",
    "SKIP = True\n",
    "\n",
    "file = 'jw01324001001_01101_00003_nis_rate.fits'\n",
    "im = pyfits.open(f'Orig/{file}.gz')\n",
    "\n",
    "for filt in ['CLEAR','GR150R','GR150C'][:]:\n",
    "    for pup in ['F090W','F115W','F150W','F200W'][:]:\n",
    "                \n",
    "        ix = (log['inst'] == 'NIRISS') & (log['filt'] == filt) & (log['pup'] == pup)\n",
    "        if (ix.sum() > 0) & SKIP:\n",
    "            print('(skip) NIRISS', filt, pup)\n",
    "            continue\n",
    "\n",
    "        print('Run NIRISS', filt, pup)\n",
    "\n",
    "        with open(_log, 'a') as fp:\n",
    "            fp.write(f'NIRISS {filt} {pup}\\n')\n",
    "\n",
    "        im[0].header['FILTER'] = filt\n",
    "        im[0].header['PUPIL'] = pup\n",
    "\n",
    "        im.writeto(f'{file}', overwrite=True)\n",
    "        \n",
    "        #prep.fresh_flt_file(file, path='./Raw/')\n",
    "        from jwst.flatfield import FlatFieldStep\n",
    "        _flat =  FlatFieldStep().get_reference_file(file, 'flat')\n",
    "        print('  flat:', _flat)\n",
    "\n",
    "        if filt in ['GR150R','GR150C']:\n",
    "            im = pyfits.open(file, mode='update')\n",
    "            im[0].header['FILTER'] = filt\n",
    "            im.flush()\n",
    "\n",
    "            _ref =  WfssContamStep().get_reference_file(file, 'wfssbkg')\n",
    "            print('  wfssbkg: ', _ref)\n",
    "            \n",
    "        _ref =  AssignWcsStep().get_reference_file(file, 'distortion')\n",
    "        print('  distortion:', _ref)\n",
    "        \n",
    "        _ref =  AssignWcsStep().get_reference_file(file, 'filteroffset')\n",
    "        print('  filteroffset:', _ref)\n"
   ]
  },
  {
   "cell_type": "markdown",
   "id": "7905eca7",
   "metadata": {},
   "source": [
    "## MIRI\n",
    "\n",
    "``flat``, ``distortion``, ``filteroffset`` references"
   ]
  },
  {
   "cell_type": "code",
   "execution_count": 5,
   "id": "34d48202",
   "metadata": {},
   "outputs": [
    {
     "name": "stdout",
     "output_type": "stream",
     "text": [
      "(skip) MIRI F560W CLEAR\n",
      "(skip) MIRI F770W CLEAR\n",
      "(skip) MIRI F1000W CLEAR\n",
      "(skip) MIRI F1280W CLEAR\n",
      "(skip) MIRI F1500W CLEAR\n",
      "(skip) MIRI F1800W CLEAR\n",
      "(skip) MIRI F2100W CLEAR\n"
     ]
    }
   ],
   "source": [
    "# MIRI\n",
    "from jwst.wfss_contam import WfssContamStep\n",
    "        \n",
    "log = utils.read_catalog(_log)\n",
    "SKIP = True\n",
    "\n",
    "file = 'jw01283001001_01101_00001_mirimage_cal.fits'\n",
    "im = pyfits.open(f'Orig/{file}.gz')\n",
    "\n",
    "pup = 'CLEAR'\n",
    "\n",
    "for filt in ['F560W','F770W','F1000W','F1280W','F1500W','F1800W','F2100W'][:]:\n",
    "                \n",
    "        ix = (log['inst'] == 'MIRI') & (log['filt'] == filt) & (log['pup'] == pup)\n",
    "        if (ix.sum() > 0) & SKIP:\n",
    "            print('(skip) MIRI', filt, pup)\n",
    "            continue\n",
    "\n",
    "        print('Run MIRI', filt, pup)\n",
    "\n",
    "        with open(_log, 'a') as fp:\n",
    "            fp.write(f'MIRI {filt} {pup}\\n')\n",
    "\n",
    "        im[0].header['FILTER'] = filt\n",
    "        #im[0].header['PUPIL'] = pup\n",
    "\n",
    "        im.writeto(f'{file}', overwrite=True)\n",
    "        \n",
    "        #prep.fresh_flt_file(file, path='./Raw/')\n",
    "        from jwst.flatfield import FlatFieldStep\n",
    "        _flat =  FlatFieldStep().get_reference_file(file, 'flat')\n",
    "        print('  flat:', _flat)\n",
    "        \n",
    "        _ref =  AssignWcsStep().get_reference_file(file, 'filteroffset')\n",
    "        print('  filteroffset:', _ref)\n",
    "\n",
    "        _ref =  AssignWcsStep().get_reference_file(file, 'distortion')\n",
    "        print('  distortion:', _ref)"
   ]
  },
  {
   "cell_type": "markdown",
   "id": "28927578",
   "metadata": {},
   "source": [
    "## NIRCam SW"
   ]
  },
  {
   "cell_type": "code",
   "execution_count": 6,
   "id": "d69a3d74",
   "metadata": {},
   "outputs": [
    {
     "name": "stdout",
     "output_type": "stream",
     "text": [
      "(skip) NIRCAM F090W NRCA1\n",
      "(skip) NIRCAM F090W NRCA2\n",
      "(skip) NIRCAM F090W NRCA3\n",
      "(skip) NIRCAM F090W NRCA4\n",
      "(skip) NIRCAM F090W NRCB1\n",
      "(skip) NIRCAM F090W NRCB2\n",
      "(skip) NIRCAM F090W NRCB3\n",
      "(skip) NIRCAM F090W NRCB4\n",
      "(skip) NIRCAM F115W NRCA1\n",
      "(skip) NIRCAM F115W NRCA2\n",
      "(skip) NIRCAM F115W NRCA3\n",
      "(skip) NIRCAM F115W NRCA4\n",
      "(skip) NIRCAM F115W NRCB1\n",
      "(skip) NIRCAM F115W NRCB2\n",
      "(skip) NIRCAM F115W NRCB3\n",
      "(skip) NIRCAM F115W NRCB4\n",
      "(skip) NIRCAM F150W NRCA1\n",
      "(skip) NIRCAM F150W NRCA2\n",
      "(skip) NIRCAM F150W NRCA3\n",
      "(skip) NIRCAM F150W NRCA4\n",
      "(skip) NIRCAM F150W NRCB1\n",
      "(skip) NIRCAM F150W NRCB2\n",
      "(skip) NIRCAM F150W NRCB3\n",
      "(skip) NIRCAM F150W NRCB4\n",
      "(skip) NIRCAM F200W NRCA1\n",
      "(skip) NIRCAM F200W NRCA2\n",
      "(skip) NIRCAM F200W NRCA3\n",
      "(skip) NIRCAM F200W NRCA4\n",
      "(skip) NIRCAM F200W NRCB1\n",
      "(skip) NIRCAM F200W NRCB2\n",
      "(skip) NIRCAM F200W NRCB3\n",
      "(skip) NIRCAM F200W NRCB4\n"
     ]
    }
   ],
   "source": [
    "# MIRI\n",
    "from jwst.wfss_contam import WfssContamStep\n",
    "        \n",
    "log = utils.read_catalog(_log)\n",
    "SKIP = True\n",
    "\n",
    "file = 'jw01433010001_01101_00005_nrca1_cal.fits'\n",
    "im = pyfits.open(f'Orig/{file}.gz')\n",
    "\n",
    "pup = 'CLEAR'\n",
    "\n",
    "for filt in ['F090W','F115W','F150W','F200W'][:]:\n",
    "    for mod in 'AB':\n",
    "        for det in range(4):\n",
    "            pup = f'NRC{mod}{det+1}'\n",
    "            \n",
    "            ix = (log['inst'] == 'NIRCAM') & (log['filt'] == filt) & (log['pup'] == pup)\n",
    "            if (ix.sum() > 0) & SKIP:\n",
    "                print('(skip) NIRCAM', filt, pup)\n",
    "                continue\n",
    "\n",
    "            print('Run NIRCAM', filt, pup)\n",
    "\n",
    "            with open(_log, 'a') as fp:\n",
    "                fp.write(f'NIRCAM {filt} {pup}\\n')\n",
    "\n",
    "            im[0].header['FILTER'] = filt\n",
    "            im[0].header['DETECTOR'] = pup\n",
    "            im[0].header['MODULE'] = mod\n",
    "            \n",
    "            im.writeto(f'{file}', overwrite=True)\n",
    "\n",
    "            #prep.fresh_flt_file(file, path='./Raw/')\n",
    "            from jwst.flatfield import FlatFieldStep\n",
    "            _flat =  FlatFieldStep().get_reference_file(file, 'flat')\n",
    "            print('  flat:', _flat)\n",
    "            \n",
    "            _ref =  AssignWcsStep().get_reference_file(file, 'filteroffset')\n",
    "            print('  filteroffset:', _ref)\n",
    "\n",
    "            _ref =  AssignWcsStep().get_reference_file(file, 'distortion')\n",
    "            print('  distortion:', _ref)"
   ]
  },
  {
   "cell_type": "markdown",
   "id": "86f3882c",
   "metadata": {},
   "source": [
    "## NIRCam LW\n",
    "\n",
    "``flat``, ``distortion``, ``filteroffset``, and ``wfssbkg`` for slitless."
   ]
  },
  {
   "cell_type": "code",
   "execution_count": 7,
   "id": "4d4511ad",
   "metadata": {},
   "outputs": [
    {
     "name": "stdout",
     "output_type": "stream",
     "text": [
      "(skip) NIRCAM F277W NRCALONG-CLEAR\n",
      "(skip) NIRCAM F277W NRCALONG-GRISMR\n",
      "(skip) NIRCAM F277W NRCALONG-GRISMC\n",
      "(skip) NIRCAM F277W NRCBLONG-CLEAR\n",
      "(skip) NIRCAM F277W NRCBLONG-GRISMR\n",
      "(skip) NIRCAM F277W NRCBLONG-GRISMC\n",
      "(skip) NIRCAM F356W NRCALONG-CLEAR\n",
      "(skip) NIRCAM F356W NRCALONG-GRISMR\n",
      "(skip) NIRCAM F356W NRCALONG-GRISMC\n",
      "(skip) NIRCAM F356W NRCBLONG-CLEAR\n",
      "(skip) NIRCAM F356W NRCBLONG-GRISMR\n",
      "(skip) NIRCAM F356W NRCBLONG-GRISMC\n",
      "(skip) NIRCAM F410M NRCALONG-CLEAR\n",
      "(skip) NIRCAM F410M NRCALONG-GRISMR\n",
      "(skip) NIRCAM F410M NRCALONG-GRISMC\n",
      "(skip) NIRCAM F410M NRCBLONG-CLEAR\n",
      "(skip) NIRCAM F410M NRCBLONG-GRISMR\n",
      "(skip) NIRCAM F410M NRCBLONG-GRISMC\n",
      "(skip) NIRCAM F444W NRCALONG-CLEAR\n",
      "(skip) NIRCAM F444W NRCALONG-GRISMR\n",
      "(skip) NIRCAM F444W NRCALONG-GRISMC\n",
      "(skip) NIRCAM F444W NRCBLONG-CLEAR\n",
      "(skip) NIRCAM F444W NRCBLONG-GRISMR\n",
      "(skip) NIRCAM F444W NRCBLONG-GRISMC\n"
     ]
    }
   ],
   "source": [
    "# MIRI\n",
    "from jwst.wfss_contam import WfssContamStep\n",
    "        \n",
    "log = utils.read_catalog(_log)\n",
    "SKIP = True\n",
    "\n",
    "file = 'jw01345011001_01101_00001_nrca5_rate.fits'\n",
    "im = pyfits.open(f'Orig/{file}.gz')\n",
    "\n",
    "pup = 'CLEAR'\n",
    "\n",
    "for filt in ['F277W','F356W','F410M','F444W'][:]:\n",
    "    for mod in 'AB':\n",
    "        for pup in ['CLEAR','GRISMR','GRISMC']:\n",
    "            key = f'NRC{mod}LONG-{pup}'\n",
    "            \n",
    "            ix = (log['inst'] == 'NIRCAM') & (log['filt'] == filt) & (log['pup'] == key)\n",
    "            if (ix.sum() > 0) & SKIP:\n",
    "                print('(skip) NIRCAM', filt, key)\n",
    "                continue\n",
    "\n",
    "            print('Run NIRCAM', filt, key)\n",
    "\n",
    "            with open(_log, 'a') as fp:\n",
    "                fp.write(f'NIRCAM {filt} {key}\\n')\n",
    "\n",
    "            im[0].header['FILTER'] = filt\n",
    "            im[0].header['DETECTOR'] = f'NRC{mod}LONG'\n",
    "            im[0].header['MODULE'] = mod\n",
    "            im[0].header['PUPIL'] = pup\n",
    "            \n",
    "            im.writeto(f'{file}', overwrite=True)\n",
    "            \n",
    "            #prep.fresh_flt_file(file, path='./Raw/')\n",
    "            from jwst.flatfield import FlatFieldStep\n",
    "            _flat =  FlatFieldStep().get_reference_file(file, 'flat')\n",
    "            print('  flat:', _flat)\n",
    "\n",
    "            _ref =  AssignWcsStep().get_reference_file(file, 'distortion')\n",
    "            print('  distortion:', _ref)\n",
    "            \n",
    "            _ref =  AssignWcsStep().get_reference_file(file, 'filteroffset')\n",
    "            print('  filteroffset:', _ref)\n",
    "\n",
    "            if pup in ['GRISMR','GRISMC']:\n",
    "                _ref =  WfssContamStep().get_reference_file(file, 'wfssbkg')\n",
    "                print('  wfssbkg: ', _ref)\n",
    "                "
   ]
  }
 ],
 "metadata": {
  "kernelspec": {
   "display_name": "Python 3 (ipykernel)",
   "language": "python",
   "name": "python3"
  },
  "language_info": {
   "codemirror_mode": {
    "name": "ipython",
    "version": 3
   },
   "file_extension": ".py",
   "mimetype": "text/x-python",
   "name": "python",
   "nbconvert_exporter": "python",
   "pygments_lexer": "ipython3",
   "version": "3.9.12"
  },
  "toc": {
   "base_numbering": 1,
   "nav_menu": {},
   "number_sections": true,
   "sideBar": true,
   "skip_h1_title": false,
   "title_cell": "Table of Contents",
   "title_sidebar": "Contents",
   "toc_cell": true,
   "toc_position": {},
   "toc_section_display": true,
   "toc_window_display": true
  }
 },
 "nbformat": 4,
 "nbformat_minor": 5
}
